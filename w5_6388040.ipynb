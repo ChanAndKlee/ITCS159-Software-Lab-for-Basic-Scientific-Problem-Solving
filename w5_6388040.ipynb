{
 "cells": [
  {
   "cell_type": "markdown",
   "id": "1ea168b4",
   "metadata": {},
   "source": [
    "## Week 5 "
   ]
  },
  {
   "cell_type": "markdown",
   "id": "93280abc",
   "metadata": {},
   "source": [
    "### Problem-01:"
   ]
  },
  {
   "cell_type": "markdown",
   "id": "99748cbc",
   "metadata": {},
   "source": [
    "Consider the two dimensional patterns\n",
    "\n",
    "(2, 1), (3, 5), (4, 3), (5, 6), (6, 7), (7, 8).\n",
    "\n",
    "Compute the principal component using PCA Algorithm."
   ]
  },
  {
   "cell_type": "markdown",
   "id": "44c09d76",
   "metadata": {},
   "source": [
    "#### Step-01:"
   ]
  },
  {
   "cell_type": "code",
   "execution_count": 120,
   "id": "ee06ef4e",
   "metadata": {},
   "outputs": [
    {
     "name": "stdout",
     "output_type": "stream",
     "text": [
      "Mean vector is  [4.5 5. ]\n",
      "X_1:  4.5\n",
      "X_2:  5.0\n"
     ]
    }
   ],
   "source": [
    "import numpy as np\n",
    "x1 = np.array([2,1]).T\n",
    "x2 = np.array([3,5]).T\n",
    "x3 = np.array([4,3]).T\n",
    "x4 = np.array([5,6]).T\n",
    "x5 = np.array([6,7]).T\n",
    "x6 = np.array([7,8])\n",
    "# Find mean of all\n",
    "x_ = (x1+x2+x3+x4+x5+x6)/6\n",
    "print('Mean vector is ', x_)\n",
    "print('X_1: ',x_[0])\n",
    "print('X_2: ',x_[1])"
   ]
  },
  {
   "cell_type": "markdown",
   "id": "23b5ac20",
   "metadata": {},
   "source": [
    "#### Step-3"
   ]
  },
  {
   "cell_type": "markdown",
   "id": "d5ce4e6f",
   "metadata": {},
   "source": [
    "Subtract mean vector (\n",
    "¯\n",
    "x\n",
    ") or (µ) from the given feature vectors.\n",
    "\n",
    "x1 – µ = (2 – 4.5, 1 – 5) = (-2.5, -4)\n",
    "\n",
    "x2 – µ = (3 – 4.5, 5 – 5) = (-1.5, 0)\n",
    "\n",
    "x3 – µ = (4 – 4.5, 3 – 5) = (-0.5, -2)\n",
    "\n",
    "x4 – µ = (5 – 4.5, 6 – 5) = (0.5, 1)\n",
    "\n",
    "x5 – µ = (6 – 4.5, 7 – 5) = (1.5, 2)\n",
    "\n",
    "x6 – µ = (7 – 4.5, 8 – 5) = (2.5, 3)"
   ]
  },
  {
   "cell_type": "code",
   "execution_count": 122,
   "id": "cdeb2910",
   "metadata": {},
   "outputs": [
    {
     "name": "stdout",
     "output_type": "stream",
     "text": [
      "[-2.5 -4. ]\n",
      "[-1.5  0. ]\n",
      "[-0.5 -2. ]\n",
      "[0.5 1. ]\n",
      "[1.5 2. ]\n",
      "[2.5 3. ]\n"
     ]
    }
   ],
   "source": [
    "# horizontal\n",
    "px1 = x1 - x_\n",
    "px2 = x2 - x_\n",
    "px3 = x3 - x_\n",
    "px4 = x4 - x_\n",
    "px5 = x5 - x_ \n",
    "px6 = x6 - x_\n",
    "\n",
    "# vertical\n",
    "px1t = px1[:,None]\n",
    "px2t = px2[:,None]\n",
    "px3t = px3[:,None]\n",
    "px4t = px4[:,None] \n",
    "px5t = px5[:,None] \n",
    "px6t = px6[:,None]\n",
    "\n",
    "# horizontal\n",
    "print(px1)\n",
    "print(px2)\n",
    "print(px3)\n",
    "print(px4)\n",
    "print(px5)\n",
    "print(px6)\n",
    "\n",
    "\n",
    "# print()\n",
    "# print(px6t)"
   ]
  },
  {
   "cell_type": "markdown",
   "id": "7ccc8ec6",
   "metadata": {},
   "source": [
    "#### Step-4"
   ]
  },
  {
   "cell_type": "markdown",
   "id": "ff3384fc",
   "metadata": {},
   "source": [
    "Calculate the covariance matrix. From Covariance Matrix, each element can compute from"
   ]
  },
  {
   "cell_type": "code",
   "execution_count": 89,
   "id": "3d8b358b",
   "metadata": {},
   "outputs": [
    {
     "name": "stdout",
     "output_type": "stream",
     "text": [
      "m1: \n",
      " [[ 6.25 10.  ]\n",
      " [10.   16.  ]]\n",
      "m2: \n",
      " [[ 2.25 -0.  ]\n",
      " [-0.    0.  ]]\n",
      "m3: \n",
      " [[0.25 1.  ]\n",
      " [1.   4.  ]]\n",
      "m4: \n",
      " [[0.25 0.5 ]\n",
      " [0.5  1.  ]]\n",
      "m5: \n",
      " [[2.25 3.  ]\n",
      " [3.   4.  ]]\n",
      "m6: \n",
      " [[6.25 7.5 ]\n",
      " [7.5  9.  ]]\n",
      "Covariance of Matrix :\n",
      " [[2.91666667 3.66666667]\n",
      " [3.66666667 5.66666667]]\n"
     ]
    }
   ],
   "source": [
    "m1 = np.outer(px1[None,:],px1t)\n",
    "m2 = np.outer(px2[None,:],px2t)\n",
    "m3 = np.outer(px3[None,:],px3t)\n",
    "m4 = np.outer(px4[None,:],px4t)\n",
    "m5 = np.outer(px5[None,:],px5t)\n",
    "m6 = np.outer(px6[None,:],px6t)\n",
    "print('m1: \\n',m1)\n",
    "print('m2: \\n',m2)\n",
    "print('m3: \\n',m3)\n",
    "print('m4: \\n',m4)\n",
    "print('m5: \\n',m5)\n",
    "print('m6: \\n',m6)\n",
    "\n",
    "cov = (m1+m2+m3+m4+m5+m6)/6\n",
    "print('Covariance of Matrix :\\n', cov)\n"
   ]
  },
  {
   "cell_type": "markdown",
   "id": "cb2bceb0",
   "metadata": {},
   "source": [
    "#### Step-5"
   ]
  },
  {
   "cell_type": "markdown",
   "id": "7a61e733",
   "metadata": {},
   "source": [
    "Calculate the eigen values and eigen vectors of the covariance matrix. use the following equation to find the eigen vector-"
   ]
  },
  {
   "cell_type": "markdown",
   "id": "e9c91790",
   "metadata": {},
   "source": [
    "CX=λX\n",
    "\n",
    "Hint: Last Week\n",
    "\n",
    "Aμ=λμ"
   ]
  },
  {
   "cell_type": "code",
   "execution_count": 141,
   "id": "2dbf2372",
   "metadata": {},
   "outputs": [],
   "source": [
    "import numpy as np\n",
    "import matplotlib.pyplot as plt\n",
    "\n",
    "eigvals, eigvecs = np.linalg.eig(cov)\n",
    "u = eigvecs[:,1]*-8     # eigval-> changes of eigvecs, eigvecs-> set vector   # filp the line and zoom in more\n",
    "lamda = eigvals[0]\n",
    "\n",
    "Au = cov.dot(u)   # array dot with eigvecs\n",
    "lamda_u = lamda * u   # multiply eigvals with eigvecs\n"
   ]
  },
  {
   "cell_type": "code",
   "execution_count": 142,
   "id": "0c757890",
   "metadata": {},
   "outputs": [
    {
     "name": "stdout",
     "output_type": "stream",
     "text": [
      "u =  [4.5567587  6.57540494]\n",
      "lamda * u =  [1.71181453 2.47014917]\n"
     ]
    },
    {
     "data": {
      "image/png": "[encoded data removed]",
      "text/plain": [
       "<Figure size 432x288 with 1 Axes>"
      ]
     },
     "metadata": {
      "needs_background": "light"
     },
     "output_type": "display_data"
    }
   ],
   "source": [
    "x_position = [0, 0]   # vector x and b start at origin\n",
    "y_position = [0, 0]    \n",
    "\n",
    "x_direction =[u[0], lamda_u[0]] # List of Endpoint of Arrow for x \n",
    "y_direction = [u[1], lamda_u[1]]\n",
    "\n",
    "plt.scatter(x1[0],x1[1])\n",
    "plt.scatter(x2[0],x2[1])\n",
    "plt.scatter(x3[0],x3[1])\n",
    "plt.scatter(x4[0],x4[1])\n",
    "plt.scatter(x5[0],x5[1])\n",
    "plt.scatter(x6[0],x6[1])\n",
    "\n",
    "# np.fliplr(cov)\n",
    "\n",
    "plt.quiver(x_position, y_position, x_direction, y_direction, angles='xy',scale_units='xy', scale=1,color=['r','b', 'y'])\n",
    "plt.xlim(-1,10)   #  is used to get or set the 'x-limits' of the current axes\n",
    "plt.ylim(-1,10)\n",
    "plt.grid(b=True, which='major') #<-- plot grid lines\n",
    "\n",
    "print('u = ', u);    # eigen vector\n",
    "print('lamda * u = ', lamda_u)   # eigen value"
   ]
  },
  {
   "cell_type": "code",
   "execution_count": null,
   "id": "4bb8047e",
   "metadata": {},
   "outputs": [],
   "source": []
  }
 ],
 "metadata": {
  "kernelspec": {
   "display_name": "Python 3",
   "language": "python",
   "name": "python3"
  },
  "language_info": {
   "codemirror_mode": {
    "name": "ipython",
    "version": 3
   },
   "file_extension": ".py",
   "mimetype": "text/x-python",
   "name": "python",
   "nbconvert_exporter": "python",
   "pygments_lexer": "ipython3",
   "version": "3.8.8"
  }
 },
 "nbformat": 4,
 "nbformat_minor": 5
}
