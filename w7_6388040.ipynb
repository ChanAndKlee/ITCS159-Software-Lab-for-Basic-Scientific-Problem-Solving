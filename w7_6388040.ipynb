{
 "cells": [
  {
   "cell_type": "code",
   "execution_count": 2,
   "metadata": {},
   "outputs": [],
   "source": [
    "# 6388040 Ariya Phengphon\n",
    "# Section 2\n",
    "# Week 7 : Pandas"
   ]
  },
  {
   "cell_type": "code",
   "execution_count": 3,
   "metadata": {},
   "outputs": [
    {
     "name": "stdout",
     "output_type": "stream",
     "text": [
      "s1:\n",
      "0    a\n",
      "1    b\n",
      "2    c\n",
      "3    d\n",
      "dtype: object\n",
      "s2:\n",
      "0    1\n",
      "1    2\n",
      "2    3\n",
      "3    4\n",
      "dtype: int32\n",
      "s3:\n",
      "0    1\n",
      "1    b\n",
      "2    3\n",
      "3    d\n",
      "dtype: object\n",
      "s:\n",
      "100    a\n",
      "101    b\n",
      "102    c\n",
      "103    d\n",
      "dtype: object\n"
     ]
    }
   ],
   "source": [
    "# EXAMPLE 1 - Homogeneous Data (Same Data type)\n",
    "import pandas as pd\n",
    "import numpy as np\n",
    "# Series => creates one-dimensional data structure\n",
    "# Generates the list of an array\n",
    "data = np.array(['a', 'b', 'c', 'd'])\n",
    "# Make one-dimensional array with axis labels\n",
    "s1 = pd.Series(data)\n",
    "print(\"s1:\")\n",
    "print(s1)\n",
    "\n",
    "data = np.array([1, 2, 3, 4])\n",
    "s2 = pd.Series(data)\n",
    "print(\"s2:\")\n",
    "print(s2)\n",
    "\n",
    "# s1 represents the one-dimensional array that's a 'character'\n",
    "# s2 represents the one-dimensional array that's an 'integer'\n",
    "\n",
    "# Heterogeneous Data (Different Data type)\n",
    "data = np.array([1, 'b', 3, 'd'])\n",
    "s3 = pd.Series(data)\n",
    "print(\"s3:\")\n",
    "print(s3)\n",
    "\n",
    "data = np.array(['a', 'b', 'c', 'd'])\n",
    "s = pd.Series(data, index=[100, 101, 102, 103])\n",
    "print(\"s:\")\n",
    "print(s)\n",
    "\n",
    "# Yes, index goes first, the followed by data"
   ]
  },
  {
   "cell_type": "code",
   "execution_count": 4,
   "metadata": {},
   "outputs": [
    {
     "name": "stdout",
     "output_type": "stream",
     "text": [
      "1\n",
      "2\n",
      "3\n",
      "a    1\n",
      "dtype: int64\n",
      "e    5\n",
      "dtype: int64\n",
      "a    1\n",
      "c    3\n",
      "d    4\n",
      "dtype: int64\n"
     ]
    }
   ],
   "source": [
    "s = pd.Series([1, 2, 3, 4, 5], index = ['a', 'b', 'c', 'd', 'e'])\n",
    "print(s[0]) # 1st (y position)\n",
    "print(s[1]) # 2nd\n",
    "print(s[2]) # 3rd\n",
    "print(s[['a']]) # access the data the is on the same index as this (a, 1)\n",
    "print(s[['e']]) # (e, 5)\n",
    "# if [] then it will get only the data that has the same index as this (a, '1'), 1\n",
    "# if [[]] then it will get both this and the matched index\n",
    "\n",
    "# Retrieved multiple elements\n",
    "print(s[['a', 'c', 'd']])\n"
   ]
  },
  {
   "cell_type": "code",
   "execution_count": 5,
   "metadata": {},
   "outputs": [
    {
     "name": "stdout",
     "output_type": "stream",
     "text": [
      "Empty DataFrame\n",
      "Columns: []\n",
      "Index: []\n",
      "   0\n",
      "0  1\n",
      "1  2\n",
      "2  3\n",
      "3  4\n",
      "4  5\n",
      "     Name  Age\n",
      "0    Alex   10\n",
      "1     Bob   12\n",
      "2  Clarke   13\n",
      "<class 'list'>\n"
     ]
    }
   ],
   "source": [
    "import pandas as pd\n",
    "# DataFrame => creates two-dimensional data structure\n",
    "# Generates roll and column\n",
    "df = pd.DataFrame()\n",
    "print(df)\n",
    "data = [1, 2, 3, 4, 5]\n",
    "df1 = pd.DataFrame(data)\n",
    "# Left is index, right is your data\n",
    "print(df1)\n",
    "\n",
    "data = [['Alex', 10],['Bob', 12],['Clarke', 13]]\n",
    "df2 = pd.DataFrame(data, columns=['Name', 'Age'])\n",
    "print(df2)\n",
    "print(type(data))"
   ]
  },
  {
   "cell_type": "code",
   "execution_count": 6,
   "metadata": {},
   "outputs": [
    {
     "name": "stdout",
     "output_type": "stream",
     "text": [
      "    Name  Age\n",
      "0    Tom   28\n",
      "1   Jack   34\n",
      "2  Steve   29\n",
      "3  Ricky   42\n",
      "<class 'dict'>\n"
     ]
    }
   ],
   "source": [
    "# Create a DataFrame from Dift of ndarrays/ Lists\n",
    "data = {'Name' : ['Tom', 'Jack', 'Steve', 'Ricky'],\n",
    "        'Age' : [28,34,29,42]}\n",
    "df = pd.DataFrame(data)\n",
    "print(df)\n",
    "print(type(data))"
   ]
  },
  {
   "cell_type": "code",
   "execution_count": 7,
   "metadata": {},
   "outputs": [
    {
     "name": "stdout",
     "output_type": "stream",
     "text": [
      "   one  two\n",
      "a  1.0    1\n",
      "b  2.0    2\n",
      "c  3.0    3\n",
      "d  NaN    4\n"
     ]
    }
   ],
   "source": [
    "# Create a DataFrame from Dict of Series\n",
    "d = {'one' : pd.Series([1, 2, 3], index=['a', 'b', 'c']),\n",
    "     'two' : pd.Series([1, 2, 3, 4], index=['a', 'b', 'c', 'd'])\n",
    "}\n",
    "df = pd.DataFrame(d)\n",
    "print(df)\n",
    "\n",
    "# We have NaN because they are no value that has the same index\n",
    "# as we input like NaN on 'd', but on 'one', it doesn't have 'd' in index."
   ]
  },
  {
   "cell_type": "code",
   "execution_count": 8,
   "metadata": {},
   "outputs": [
    {
     "name": "stdout",
     "output_type": "stream",
     "text": [
      "   Math  C-Programming  Java  Web-Programming\n",
      "0    90             70    50               55\n",
      "1    10             20    41               66\n",
      "2    34             25    67               23\n",
      "3    23             32    34               76\n",
      "4    43             73    23               67\n"
     ]
    }
   ],
   "source": [
    "# Create Table 1 : studentDF DataFrame\n",
    "data = {'Math' : pd.Series([90, 10, 34, 23, 43], index=[0, 1, 2, 3, 4]),\n",
    "'C-Programming' : pd.Series([70, 20, 25, 32, 73], index=[0, 1, 2, 3, 4]),\n",
    "'Java' : pd.Series([50, 41, 67, 34, 23], index=[0, 1, 2, 3, 4]),\n",
    "'Web-Programming' : pd.Series([55, 66, 23, 76, 67], index=[0, 1, 2, 3, 4])\n",
    "}\n",
    "\n",
    "# data = [[90, 70, 50, 55], [10, 20, 41, 66], [34, 25, 67, 23]]\n",
    "# data = pd.DataFrame(data, columns=['Math', 'CProg', 'Java', 'WebProg'])\n",
    "\n",
    "studentDF = pd.DataFrame(data)\n",
    "print(studentDF)"
   ]
  },
  {
   "cell_type": "code",
   "execution_count": 9,
   "metadata": {},
   "outputs": [
    {
     "name": "stdout",
     "output_type": "stream",
     "text": [
      "   Math  C-Programming  Java  Web-Programming\n",
      "0    90             70    50               55\n",
      "1    10             20    41               66\n",
      "2    34             25    67               23\n",
      "3    23             32    34               76\n",
      "4    43             73    23               67\n",
      "   Math  C-Programming  Java  Web-Programming\n",
      "2    34             25    67               23\n",
      "3    23             32    34               76\n",
      "Math               90\n",
      "C-Programming      70\n",
      "Java               50\n",
      "Web-Programming    55\n",
      "Name: 0, dtype: int64\n",
      "Math               34\n",
      "C-Programming      25\n",
      "Java               67\n",
      "Web-Programming    23\n",
      "Name: 2, dtype: int64\n",
      "   Math  C-Programming  Java  Web-Programming\n",
      "0    90             70    50               55\n",
      "1    10             20    41               66\n",
      "2    34             25    67               23\n"
     ]
    }
   ],
   "source": [
    "# Row Selection, Addition, and Deletion\n",
    "df = studentDF # Replace old table (Above)\n",
    "print(df)\n",
    "print(df[2:4])  # Get from index 2 - (4-1) # Slice Rows\n",
    "print(df.loc[0]) # Get rows 0 #.loc[] is primarily label based, but may also be used with a boolean array.\n",
    "print(df.loc[2]) # Get rows 2\n",
    "print(df.loc[0:2]) # Get column 0 - 2"
   ]
  },
  {
   "cell_type": "code",
   "execution_count": 10,
   "metadata": {},
   "outputs": [
    {
     "name": "stdout",
     "output_type": "stream",
     "text": [
      "   a  b\n",
      "0  1  2\n",
      "1  3  4\n",
      "0  5  6\n",
      "1  7  8\n"
     ]
    }
   ],
   "source": [
    "df = pd.DataFrame([[1, 2], [3, 4]], columns = ['a', 'b'])\n",
    "df2 = pd.DataFrame([[5, 6], [7, 8]], columns = ['a','b'])\n",
    "df = df.append(df2) # Append df2 to df\n",
    "print(df)"
   ]
  },
  {
   "cell_type": "code",
   "execution_count": 11,
   "metadata": {},
   "outputs": [
    {
     "name": "stdout",
     "output_type": "stream",
     "text": [
      "   Math  C-Programming  Java  Web-Programming\n",
      "0    90             70    50               55\n",
      "1    10             20    41               66\n",
      "2    34             25    67               23\n",
      "3    23             32    34               76\n",
      "4    43             73    23               67\n",
      "5    59             37    84               82\n",
      "6    41             34    73               55\n"
     ]
    }
   ],
   "source": [
    "# Table 2 : New rows of studentDF\n",
    "#studentDF2 = pd.DataFrame([[59, 37], [41, 34]], columns = ['Math', 'C-programming'])\n",
    "#studentDF.append(studentDF2)\n",
    "\n",
    "studentDF2 = {'Math' : pd.Series([59, 41], index=[5, 6]),\n",
    "'C-Programming' : pd.Series([37, 34], index=[5, 6]),\n",
    "'Java' : pd.Series([84, 73], index=[5, 6]),\n",
    "'Web-Programming' : pd.Series([82, 55], index=[5, 6])\n",
    "}\n",
    "df = pd.DataFrame(studentDF2)\n",
    "ans = studentDF.append(df)\n",
    "print(ans)"
   ]
  },
  {
   "cell_type": "code",
   "execution_count": 12,
   "metadata": {},
   "outputs": [
    {
     "name": "stdout",
     "output_type": "stream",
     "text": [
      "Before:\n",
      "   Math  C-Programming  Java  Web-Programming\n",
      "0    90             70    50               55\n",
      "1    10             20    41               66\n",
      "2    34             25    67               23\n",
      "3    23             32    34               76\n",
      "4    43             73    23               67\n",
      "5    59             37    84               82\n",
      "6    41             34    73               55\n",
      "After:\n",
      "   Math  C-Programming  Java  Web-Programming\n",
      "1    10             20    41               66\n",
      "2    34             25    67               23\n",
      "3    23             32    34               76\n",
      "4    43             73    23               67\n",
      "5    59             37    84               82\n"
     ]
    }
   ],
   "source": [
    "# Delete rows\n",
    "df = ans\n",
    "print(\"Before:\")\n",
    "print(df)\n",
    "df = df.drop(0)  # Delete rows 0\n",
    "df = df.drop(6)\n",
    "print(\"After:\")\n",
    "print(df)"
   ]
  },
  {
   "cell_type": "markdown",
   "metadata": {},
   "source": [
    "### ------ **Milestone 1 completed** ------"
   ]
  },
  {
   "cell_type": "code",
   "execution_count": 13,
   "metadata": {},
   "outputs": [
    {
     "data": {
      "text/plain": [
       "Name    TomJackSteveRicky\n",
       "Age                   133\n",
       "dtype: object"
      ]
     },
     "execution_count": 13,
     "metadata": {},
     "output_type": "execute_result"
    }
   ],
   "source": [
    "# Decriptive Statistics\n",
    "data = {'Name' : ['Tom', 'Jack', 'Steve', 'Ricky'],\n",
    "        'Age' : [28, 34, 29, 42]}\n",
    "df = pd.DataFrame(data)\n",
    "df2 = df\n",
    "df.sum()\n",
    "\n",
    "# # Set the index\n",
    "# df.sum = df.sum()\n",
    "# # Return the axes labels of the dataframe\n",
    "# result = df.axes\n",
    "# # Print the result\n",
    "# print(result)"
   ]
  },
  {
   "cell_type": "code",
   "execution_count": 24,
   "metadata": {},
   "outputs": [
    {
     "data": {
      "text/html": [
       "<div>\n",
       "<style scoped>\n",
       "    .dataframe tbody tr th:only-of-type {\n",
       "        vertical-align: middle;\n",
       "    }\n",
       "\n",
       "    .dataframe tbody tr th {\n",
       "        vertical-align: top;\n",
       "    }\n",
       "\n",
       "    .dataframe thead th {\n",
       "        text-align: right;\n",
       "    }\n",
       "</style>\n",
       "<table border=\"1\" class=\"dataframe\">\n",
       "  <thead>\n",
       "    <tr style=\"text-align: right;\">\n",
       "      <th></th>\n",
       "      <th>Age</th>\n",
       "    </tr>\n",
       "  </thead>\n",
       "  <tbody>\n",
       "    <tr>\n",
       "      <th>count</th>\n",
       "      <td>4.000000</td>\n",
       "    </tr>\n",
       "    <tr>\n",
       "      <th>mean</th>\n",
       "      <td>33.250000</td>\n",
       "    </tr>\n",
       "    <tr>\n",
       "      <th>std</th>\n",
       "      <td>6.396614</td>\n",
       "    </tr>\n",
       "    <tr>\n",
       "      <th>min</th>\n",
       "      <td>28.000000</td>\n",
       "    </tr>\n",
       "    <tr>\n",
       "      <th>25%</th>\n",
       "      <td>28.750000</td>\n",
       "    </tr>\n",
       "    <tr>\n",
       "      <th>50%</th>\n",
       "      <td>31.500000</td>\n",
       "    </tr>\n",
       "    <tr>\n",
       "      <th>75%</th>\n",
       "      <td>36.000000</td>\n",
       "    </tr>\n",
       "    <tr>\n",
       "      <th>max</th>\n",
       "      <td>42.000000</td>\n",
       "    </tr>\n",
       "  </tbody>\n",
       "</table>\n",
       "</div>"
      ],
      "text/plain": [
       "             Age\n",
       "count   4.000000\n",
       "mean   33.250000\n",
       "std     6.396614\n",
       "min    28.000000\n",
       "25%    28.750000\n",
       "50%    31.500000\n",
       "75%    36.000000\n",
       "max    42.000000"
      ]
     },
     "execution_count": 24,
     "metadata": {},
     "output_type": "execute_result"
    }
   ],
   "source": [
    "# Use statistic function\n",
    "data = {'Name' : ['Tom', 'Jack', 'Steve', 'Ricky'],\n",
    "'Age' : [28, 34, 29, 42]}\n",
    "df = pd.DataFrame(data)\n",
    "df.count()\n",
    "df.sum()\n",
    "df.mean()\n",
    "df.median()\n",
    "df.mode()\n",
    "df.std()\n",
    "df.min()\n",
    "df.max()\n",
    "df.sum().abs       # Can use abs only integer/float not string\n",
    "df.prod()          # Product of Values\n",
    "df.cumsum()        # Cumulative Sum, sum all integer, float, string(concatenate)\n",
    "df.sum().cumprod() # Cumulative Sum\n",
    "df.describe()      # Compute a summary of statistics"
   ]
  },
  {
   "cell_type": "code",
   "execution_count": 15,
   "metadata": {},
   "outputs": [
    {
     "data": {
      "text/html": [
       "<div>\n",
       "<style scoped>\n",
       "    .dataframe tbody tr th:only-of-type {\n",
       "        vertical-align: middle;\n",
       "    }\n",
       "\n",
       "    .dataframe tbody tr th {\n",
       "        vertical-align: top;\n",
       "    }\n",
       "\n",
       "    .dataframe thead th {\n",
       "        text-align: right;\n",
       "    }\n",
       "</style>\n",
       "<table border=\"1\" class=\"dataframe\">\n",
       "  <thead>\n",
       "    <tr style=\"text-align: right;\">\n",
       "      <th></th>\n",
       "      <th>Age</th>\n",
       "      <th>Rating</th>\n",
       "    </tr>\n",
       "  </thead>\n",
       "  <tbody>\n",
       "    <tr>\n",
       "      <th>count</th>\n",
       "      <td>12.000000</td>\n",
       "      <td>12.000000</td>\n",
       "    </tr>\n",
       "    <tr>\n",
       "      <th>mean</th>\n",
       "      <td>31.833333</td>\n",
       "      <td>3.743333</td>\n",
       "    </tr>\n",
       "    <tr>\n",
       "      <th>std</th>\n",
       "      <td>9.232682</td>\n",
       "      <td>0.661628</td>\n",
       "    </tr>\n",
       "    <tr>\n",
       "      <th>min</th>\n",
       "      <td>23.000000</td>\n",
       "      <td>2.560000</td>\n",
       "    </tr>\n",
       "    <tr>\n",
       "      <th>25%</th>\n",
       "      <td>25.000000</td>\n",
       "      <td>3.230000</td>\n",
       "    </tr>\n",
       "    <tr>\n",
       "      <th>50%</th>\n",
       "      <td>29.500000</td>\n",
       "      <td>3.790000</td>\n",
       "    </tr>\n",
       "    <tr>\n",
       "      <th>75%</th>\n",
       "      <td>35.500000</td>\n",
       "      <td>4.132500</td>\n",
       "    </tr>\n",
       "    <tr>\n",
       "      <th>max</th>\n",
       "      <td>51.000000</td>\n",
       "      <td>4.800000</td>\n",
       "    </tr>\n",
       "  </tbody>\n",
       "</table>\n",
       "</div>"
      ],
      "text/plain": [
       "             Age     Rating\n",
       "count  12.000000  12.000000\n",
       "mean   31.833333   3.743333\n",
       "std     9.232682   0.661628\n",
       "min    23.000000   2.560000\n",
       "25%    25.000000   3.230000\n",
       "50%    29.500000   3.790000\n",
       "75%    35.500000   4.132500\n",
       "max    51.000000   4.800000"
      ]
     },
     "execution_count": 15,
     "metadata": {},
     "output_type": "execute_result"
    }
   ],
   "source": [
    "import pandas as pd\n",
    "import numpy as np\n",
    "#Create a Dictionary of series\n",
    "d = {'Name' : pd.Series(['Tom', 'James', 'Ricky', 'Vin', 'Steve', 'Smith',\n",
    "                        'Jack', 'Lee', 'David', 'Gasper', 'Betina', 'Andres']),\n",
    "     'Age' : pd.Series([25, 26, 25, 23, 30, 29, 23, 34, 40, 30, 51, 46]),\n",
    "    'Rating' : pd.Series([4.23, 3.24, 3.98, 2.56, 3.20, 4.6, 3.8, 3.78, 2.98, 4.80, 4.10, 3.65])\n",
    "}\n",
    "\n",
    "#Create a DataFrame\n",
    "df = pd.DataFrame(d)\n",
    "df.describe()"
   ]
  },
  {
   "cell_type": "code",
   "execution_count": 16,
   "metadata": {},
   "outputs": [
    {
     "name": "stdout",
     "output_type": "stream",
     "text": [
      "   Math  C-Programming  Java  Web-Programming\n",
      "0    90             70    50               55\n",
      "1    10             20    41               66\n",
      "2    34             25    67               23\n",
      "3    23             32    34               76\n",
      "4    43             73    23               67\n",
      "5    59             37    84               82\n",
      "6    41             34    73               55\n"
     ]
    },
    {
     "data": {
      "text/html": [
       "<div>\n",
       "<style scoped>\n",
       "    .dataframe tbody tr th:only-of-type {\n",
       "        vertical-align: middle;\n",
       "    }\n",
       "\n",
       "    .dataframe tbody tr th {\n",
       "        vertical-align: top;\n",
       "    }\n",
       "\n",
       "    .dataframe thead th {\n",
       "        text-align: right;\n",
       "    }\n",
       "</style>\n",
       "<table border=\"1\" class=\"dataframe\">\n",
       "  <thead>\n",
       "    <tr style=\"text-align: right;\">\n",
       "      <th></th>\n",
       "      <th>Math</th>\n",
       "      <th>C-Programming</th>\n",
       "      <th>Java</th>\n",
       "      <th>Web-Programming</th>\n",
       "    </tr>\n",
       "  </thead>\n",
       "  <tbody>\n",
       "    <tr>\n",
       "      <th>count</th>\n",
       "      <td>7.000000</td>\n",
       "      <td>7.000000</td>\n",
       "      <td>7.000000</td>\n",
       "      <td>7.000000</td>\n",
       "    </tr>\n",
       "    <tr>\n",
       "      <th>mean</th>\n",
       "      <td>42.857143</td>\n",
       "      <td>41.571429</td>\n",
       "      <td>53.142857</td>\n",
       "      <td>60.571429</td>\n",
       "    </tr>\n",
       "    <tr>\n",
       "      <th>std</th>\n",
       "      <td>25.944997</td>\n",
       "      <td>21.235639</td>\n",
       "      <td>22.251806</td>\n",
       "      <td>19.329228</td>\n",
       "    </tr>\n",
       "    <tr>\n",
       "      <th>min</th>\n",
       "      <td>10.000000</td>\n",
       "      <td>20.000000</td>\n",
       "      <td>23.000000</td>\n",
       "      <td>23.000000</td>\n",
       "    </tr>\n",
       "    <tr>\n",
       "      <th>25%</th>\n",
       "      <td>28.500000</td>\n",
       "      <td>28.500000</td>\n",
       "      <td>37.500000</td>\n",
       "      <td>55.000000</td>\n",
       "    </tr>\n",
       "    <tr>\n",
       "      <th>50%</th>\n",
       "      <td>41.000000</td>\n",
       "      <td>34.000000</td>\n",
       "      <td>50.000000</td>\n",
       "      <td>66.000000</td>\n",
       "    </tr>\n",
       "    <tr>\n",
       "      <th>75%</th>\n",
       "      <td>51.000000</td>\n",
       "      <td>53.500000</td>\n",
       "      <td>70.000000</td>\n",
       "      <td>71.500000</td>\n",
       "    </tr>\n",
       "    <tr>\n",
       "      <th>max</th>\n",
       "      <td>90.000000</td>\n",
       "      <td>73.000000</td>\n",
       "      <td>84.000000</td>\n",
       "      <td>82.000000</td>\n",
       "    </tr>\n",
       "  </tbody>\n",
       "</table>\n",
       "</div>"
      ],
      "text/plain": [
       "            Math  C-Programming       Java  Web-Programming\n",
       "count   7.000000       7.000000   7.000000         7.000000\n",
       "mean   42.857143      41.571429  53.142857        60.571429\n",
       "std    25.944997      21.235639  22.251806        19.329228\n",
       "min    10.000000      20.000000  23.000000        23.000000\n",
       "25%    28.500000      28.500000  37.500000        55.000000\n",
       "50%    41.000000      34.000000  50.000000        66.000000\n",
       "75%    51.000000      53.500000  70.000000        71.500000\n",
       "max    90.000000      73.000000  84.000000        82.000000"
      ]
     },
     "execution_count": 16,
     "metadata": {},
     "output_type": "execute_result"
    }
   ],
   "source": [
    "studentDF2 = {'Math' : pd.Series([59, 41], index=[5, 6]),\n",
    "'C-Programming' : pd.Series([37, 34], index=[5, 6]),\n",
    "'Java' : pd.Series([84, 73], index=[5, 6]),\n",
    "'Web-Programming' : pd.Series([82, 55], index=[5, 6])\n",
    "}\n",
    "df = pd.DataFrame(studentDF2)\n",
    "ans = studentDF.append(df)\n",
    "print(ans)\n",
    "ans.describe()"
   ]
  },
  {
   "cell_type": "code",
   "execution_count": 17,
   "metadata": {},
   "outputs": [
    {
     "name": "stdout",
     "output_type": "stream",
     "text": [
      "   Math  C-Programming  Java  Web-Programming\n",
      "0  90.0           70.0  50.0             55.0\n",
      "1  10.0           20.0  41.0             66.0\n",
      "2  34.0           25.0  67.0             23.0\n",
      "3  23.0           32.0  34.0             76.0\n",
      "4  43.0           73.0  23.0             67.0\n",
      "5   NaN            NaN   NaN              NaN\n",
      "6   NaN            NaN   NaN              NaN\n",
      "7   NaN            NaN   NaN              NaN\n"
     ]
    }
   ],
   "source": [
    "# Missing Data\n",
    "studentDF = studentDF.reindex([0,1,2,3,4,5,6,7])\n",
    "print(studentDF)\n",
    "# N of NaN = 12"
   ]
  },
  {
   "cell_type": "code",
   "execution_count": 18,
   "metadata": {},
   "outputs": [
    {
     "name": "stdout",
     "output_type": "stream",
     "text": [
      "a    False\n",
      "b     True\n",
      "c    False\n",
      "d     True\n",
      "e    False\n",
      "f    False\n",
      "g     True\n",
      "h    False\n",
      "Name: one, dtype: bool\n",
      "a     True\n",
      "b    False\n",
      "c     True\n",
      "d    False\n",
      "e     True\n",
      "f     True\n",
      "g    False\n",
      "h     True\n",
      "Name: two, dtype: bool\n"
     ]
    }
   ],
   "source": [
    "# Check for Missing Values\n",
    "df = pd.DataFrame(np.random.randn(5, 3),\n",
    "    index=['a', 'c', 'e','f', 'h'],\n",
    "    columns=['one', 'two', 'three'])\n",
    "df = df.reindex(['a', 'b', 'c', 'd', 'e', 'f', 'g', 'h'])\n",
    "# print(df)\n",
    "print(df['one'].isnull())\n",
    "print(df['two'].notnull())"
   ]
  },
  {
   "cell_type": "code",
   "execution_count": 19,
   "metadata": {},
   "outputs": [
    {
     "name": "stdout",
     "output_type": "stream",
     "text": [
      "   Math  C-Programming  Java  Web-Programming\n",
      "0  90.0           70.0  50.0             55.0\n",
      "1  10.0           20.0  41.0             66.0\n",
      "2  34.0           25.0  67.0             23.0\n",
      "3  23.0           32.0  34.0             76.0\n",
      "4  43.0           73.0  23.0             67.0\n",
      "5   0.0            0.0   0.0              0.0\n",
      "6   0.0            0.0   0.0              0.0\n",
      "7   0.0            0.0   0.0              0.0\n",
      "   Math  C-Programming  Java  Web-Programming\n",
      "0  90.0           70.0  50.0             55.0\n",
      "1  10.0           20.0  41.0             66.0\n",
      "2  34.0           25.0  67.0             23.0\n",
      "3  23.0           32.0  34.0             76.0\n",
      "4  43.0           73.0  23.0             67.0\n",
      "5  43.0           73.0  23.0             67.0\n",
      "6  43.0           73.0  23.0             67.0\n",
      "7  43.0           73.0  23.0             67.0\n"
     ]
    }
   ],
   "source": [
    "# Filling Missing Data by using fillna\n",
    "s1 = studentDF\n",
    "s2 = studentDF\n",
    "s1 = s1.fillna(0)\n",
    "s2 = s2.fillna(method='pad') # Repeting the recent value on the null data\n",
    "print(s1)\n",
    "print(s2)"
   ]
  },
  {
   "cell_type": "markdown",
   "metadata": {},
   "source": [
    "### ------ **Milestone 2 completed** ------"
   ]
  },
  {
   "cell_type": "code",
   "execution_count": 20,
   "metadata": {},
   "outputs": [
    {
     "name": "stdout",
     "output_type": "stream",
     "text": [
      "   id    Name subject_id\n",
      "0   1    Alex       sub1\n",
      "1   2     Amy       sub2\n",
      "2   3   Allen       sub4\n",
      "3   4   Alice       sub6\n",
      "4   5  Ayoung       sub5\n",
      "   id    subject_name\n",
      "0   1            Math\n",
      "1   2         English\n",
      "2   3  Social Science\n",
      "3   4     Programming\n",
      "4   5         Physics\n",
      "   id    Name subject_id    subject_name\n",
      "0   1    Alex       sub1            Math\n",
      "1   2     Amy       sub2         English\n",
      "2   3   Allen       sub4  Social Science\n",
      "3   4   Alice       sub6     Programming\n",
      "4   5  Ayoung       sub5         Physics\n"
     ]
    }
   ],
   "source": [
    "# Joining / Grouping\n",
    "left = pd.DataFrame({\n",
    "'id' : [1, 2, 3, 4, 5],\n",
    "'Name' : ['Alex', 'Amy', 'Allen', 'Alice', 'Ayoung'],\n",
    "'subject_id' : ['sub1', 'sub2', 'sub4', 'sub6', 'sub5']\n",
    "})\n",
    "\n",
    "right = pd.DataFrame({\n",
    "'id' : [1, 2 ,3, 4, 5],\n",
    "'subject_name' : ['Math','English', 'Social Science', 'Programming', 'Physics']\n",
    "})\n",
    "\n",
    "print(left)\n",
    "print(right)\n",
    "\n",
    "# Merge\n",
    "# It has duplicated id that can be reduced\n",
    "merged_table = pd.merge(left,right,on='id')\n",
    "print(merged_table)"
   ]
  },
  {
   "cell_type": "code",
   "execution_count": 21,
   "metadata": {},
   "outputs": [
    {
     "name": "stdout",
     "output_type": "stream",
     "text": [
      "   id section\n",
      "0   0     one\n",
      "1   1     one\n",
      "2   2     one\n",
      "3   3     two\n",
      "4   4     two\n",
      "5   5     two\n",
      "   id     name  math  english\n",
      "0   0      Mat    34       23\n",
      "1   1     Mike    12       13\n",
      "2   2     John    34       51\n",
      "3   3  Preecha    12       62\n",
      "4   4    Prabu    65       12\n",
      "5   5   Bunchu    23       42\n",
      "   id section     name  math  english\n",
      "0   0     one      Mat    34       23\n",
      "1   1     one     Mike    12       13\n",
      "2   2     one     John    34       51\n",
      "3   3     two  Preecha    12       62\n",
      "4   4     two    Prabu    65       12\n",
      "5   5     two   Bunchu    23       42\n"
     ]
    },
    {
     "data": {
      "text/html": [
       "<div>\n",
       "<style scoped>\n",
       "    .dataframe tbody tr th:only-of-type {\n",
       "        vertical-align: middle;\n",
       "    }\n",
       "\n",
       "    .dataframe tbody tr th {\n",
       "        vertical-align: top;\n",
       "    }\n",
       "\n",
       "    .dataframe thead th {\n",
       "        text-align: right;\n",
       "    }\n",
       "</style>\n",
       "<table border=\"1\" class=\"dataframe\">\n",
       "  <thead>\n",
       "    <tr style=\"text-align: right;\">\n",
       "      <th></th>\n",
       "      <th>id</th>\n",
       "      <th>math</th>\n",
       "      <th>english</th>\n",
       "    </tr>\n",
       "    <tr>\n",
       "      <th>section</th>\n",
       "      <th></th>\n",
       "      <th></th>\n",
       "      <th></th>\n",
       "    </tr>\n",
       "  </thead>\n",
       "  <tbody>\n",
       "    <tr>\n",
       "      <th>one</th>\n",
       "      <td>3</td>\n",
       "      <td>80</td>\n",
       "      <td>87</td>\n",
       "    </tr>\n",
       "    <tr>\n",
       "      <th>two</th>\n",
       "      <td>12</td>\n",
       "      <td>100</td>\n",
       "      <td>116</td>\n",
       "    </tr>\n",
       "  </tbody>\n",
       "</table>\n",
       "</div>"
      ],
      "text/plain": [
       "         id  math  english\n",
       "section                   \n",
       "one       3    80       87\n",
       "two      12   100      116"
      ]
     },
     "execution_count": 21,
     "metadata": {},
     "output_type": "execute_result"
    }
   ],
   "source": [
    "# Create table section and create table student, and use merge()\n",
    "left = pd.DataFrame({\n",
    "'id' : [0, 1, 2, 3, 4, 5],\n",
    "'section' : ['one', 'one', 'one', 'two', 'two', 'two'],\n",
    "})\n",
    "\n",
    "right = pd.DataFrame({\n",
    "'id' : [0, 1, 2, 3, 4, 5],\n",
    "'name' : ['Mat','Mike', 'John', 'Preecha', 'Prabu', 'Bunchu'],\n",
    "'math' : [34, 12, 34, 12, 65, 23],\n",
    "'english' : [23, 13, 51, 62, 12, 42]\n",
    "})\n",
    "\n",
    "print(left)\n",
    "print(right)\n",
    "\n",
    "merged_table = pd.merge(left,right,on='id')\n",
    "print(merged_table)\n",
    "\n",
    "# A groupby operation involves some combination of splitting the object, \n",
    "# applying a function, and combining the results.\n",
    "# Sum of data based on grouped by 'section'\n",
    "score_sec = merged_table.groupby('section')\n",
    "score_sec.sum()"
   ]
  },
  {
   "cell_type": "markdown",
   "metadata": {},
   "source": [
    "### ------ **Milestone 3 completed** ------"
   ]
  }
 ],
 "metadata": {
  "interpreter": {
   "hash": "42588fd11209419b7c81abe23e31a1d2101f60811b02170c268e57ebb57d5d9a"
  },
  "kernelspec": {
   "display_name": "Python 3.8.8 64-bit ('base': conda)",
   "name": "python3"
  },
  "language_info": {
   "codemirror_mode": {
    "name": "ipython",
    "version": 3
   },
   "file_extension": ".py",
   "mimetype": "text/x-python",
   "name": "python",
   "nbconvert_exporter": "python",
   "pygments_lexer": "ipython3",
   "version": "3.8.8"
  },
  "orig_nbformat": 4
 },
 "nbformat": 4,
 "nbformat_minor": 2
}
