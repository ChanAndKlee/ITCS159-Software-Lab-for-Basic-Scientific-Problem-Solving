{
 "cells": [
  {
   "cell_type": "markdown",
   "metadata": {},
   "source": [
    "### 6388040\n",
    "###  Week 6 : The use of Python Library (SciPy)"
   ]
  },
  {
   "cell_type": "markdown",
   "metadata": {},
   "source": [
    "Exercise 1) Now, try to create the final scores of 20 students in Jupyter\n",
    "Notebook as follows:"
   ]
  },
  {
   "cell_type": "code",
   "execution_count": 13,
   "metadata": {},
   "outputs": [
    {
     "name": "stdout",
     "output_type": "stream",
     "text": [
      "[[80], [78], [55], [60], [62], [59], [48], [49], [51], [54], [72], [95], [78], [54], [50], [61], [57], [56], [65], [53]]\n"
     ]
    }
   ],
   "source": [
    "import scipy\n",
    "from scipy.cluster.vq import kmeans, vq, whiten\n",
    "# Score of 20 students in on subjects\n",
    "student_scores = [[80], [78], [55], [60], [62],\n",
    "                [59], [48], [49], [51], [54],\n",
    "                [72], [95], [78], [54], [50],\n",
    "                [61], [57], [56], [65], [53]];\n",
    "print(student_scores)"
   ]
  },
  {
   "cell_type": "markdown",
   "metadata": {},
   "source": [
    "Exercise 2) Next, normalize the raw data and calculate the centroids for\n",
    "classifying two group of students:"
   ]
  },
  {
   "cell_type": "code",
   "execution_count": 14,
   "metadata": {},
   "outputs": [
    {
     "name": "stdout",
     "output_type": "stream",
     "text": [
      "[[4.54233358]\n",
      " [6.58474976]]\n"
     ]
    }
   ],
   "source": [
    "student_scores = whiten(student_scores) # normalize a group of student\n",
    "centroids,_ = kmeans(student_scores, 2) # devided into 2 groups of student\n",
    "\n",
    "# print(student_scores)\n",
    "print(centroids)"
   ]
  },
  {
   "cell_type": "markdown",
   "metadata": {},
   "source": [
    "Exercise 3) Finally, assign student into each group based on the nearest\n",
    "distance:"
   ]
  },
  {
   "cell_type": "code",
   "execution_count": 15,
   "metadata": {},
   "outputs": [
    {
     "name": "stdout",
     "output_type": "stream",
     "text": [
      "[1 1 0 0 0 0 0 0 0 0 1 1 1 0 0 0 0 0 0 0]\n"
     ]
    }
   ],
   "source": [
    "result,_ = vq(student_scores, centroids)\n",
    "print(result)"
   ]
  },
  {
   "cell_type": "markdown",
   "metadata": {},
   "source": [
    "Exercise 4) Modify the code in Exercise 1,2 and 3, in order to classify students\n",
    "in to 4 groups and show the results."
   ]
  },
  {
   "cell_type": "code",
   "execution_count": 16,
   "metadata": {},
   "outputs": [
    {
     "name": "stdout",
     "output_type": "stream",
     "text": [
      "[[4.95626326]\n",
      " [6.29064183]\n",
      " [7.76118148]\n",
      " [4.26638046]]\n",
      "[1 1 3 0 0 0 3 3 3 3 1 2 1 3 3 0 0 3 0 3]\n"
     ]
    }
   ],
   "source": [
    "centroidsFour,_ = kmeans(student_scores, 4)\n",
    "print(centroidsFour)\n",
    "resultFour,_ = vq(student_scores, centroidsFour)\n",
    "print(resultFour)"
   ]
  },
  {
   "cell_type": "markdown",
   "metadata": {},
   "source": [
    "Exercise 5) Next, Try to classify the following scores of two subjects from 20\n",
    "students into FOUR groups"
   ]
  },
  {
   "cell_type": "code",
   "execution_count": 17,
   "metadata": {},
   "outputs": [],
   "source": [
    "student_scores = [[80 , 72] , [78 , 56] , [55 , 64] , [60 , 61] , [62 , 45] ,\n",
    "[59 , 71] , [48 , 85] , [49 , 45] , [51 , 55] , [54 , 62] ,\n",
    "[72 , 81] , [95 , 81] , [78 , 92] , [54 , 80] , [50 , 50] ,\n",
    "[61 , 65] , [57 , 62] , [56 , 55] , [65 , 63] , [53 , 72]];\n",
    "\n",
    "student_scores = whiten(student_scores)\n",
    "centroids,_ = kmeans(student_scores, 4) # except only float/double\n",
    "result,_ = vq(student_scores, centroids)\n",
    "\n",
    "# # print(student_scores)\n",
    "# print(centroids)\n",
    "# print(result)"
   ]
  },
  {
   "cell_type": "markdown",
   "metadata": {},
   "source": [
    "Exercise 6) Try the following code:"
   ]
  },
  {
   "cell_type": "code",
   "execution_count": 18,
   "metadata": {},
   "outputs": [
    {
     "name": "stdout",
     "output_type": "stream",
     "text": [
      "The PI is         3.141593\n",
      "The speed of light is c = 299792458\n",
      "The newton's gravity constant is G = 10\n"
     ]
    }
   ],
   "source": [
    "import scipy.constants\n",
    "\n",
    "print(\"The PI is %16f\"%(scipy.constants.pi))\n",
    "print(\"The speed of light is c = %1.f\"%(scipy.constants.c))\n",
    "print(\"The newton's gravity constant is G = %1.f\"%(scipy.constants.g))"
   ]
  },
  {
   "cell_type": "code",
   "execution_count": 19,
   "metadata": {},
   "outputs": [
    {
     "data": {
      "text/plain": [
       "['atomic mass unit-kilogram relationship',\n",
       " 'electron volt-kilogram relationship',\n",
       " 'hartree-kilogram relationship',\n",
       " 'hertz-kilogram relationship',\n",
       " 'inverse meter-kilogram relationship',\n",
       " 'joule-kilogram relationship',\n",
       " 'kelvin-kilogram relationship',\n",
       " 'kilogram-atomic mass unit relationship',\n",
       " 'kilogram-electron volt relationship',\n",
       " 'kilogram-hartree relationship',\n",
       " 'kilogram-hertz relationship',\n",
       " 'kilogram-inverse meter relationship',\n",
       " 'kilogram-joule relationship',\n",
       " 'kilogram-kelvin relationship']"
      ]
     },
     "execution_count": 19,
     "metadata": {},
     "output_type": "execute_result"
    }
   ],
   "source": [
    "scipy.constants.find(\"gram\")"
   ]
  },
  {
   "cell_type": "code",
   "execution_count": 20,
   "metadata": {},
   "outputs": [
    {
     "name": "stdout",
     "output_type": "stream",
     "text": [
      "(1.6605390666e-27, 'kg', 5e-37)\n"
     ]
    }
   ],
   "source": [
    "print(scipy.constants.physical_constants[\"atomic mass unit-kilogram relationship\"])"
   ]
  },
  {
   "cell_type": "markdown",
   "metadata": {},
   "source": [
    "Exercise 9) Try to calculate the Energy(E) of your body (weight in kg) if\n",
    "your entire body disappeared (Using E = mc2\n",
    "equation)."
   ]
  },
  {
   "cell_type": "code",
   "execution_count": 21,
   "metadata": {},
   "outputs": [
    {
     "name": "stdout",
     "output_type": "stream",
     "text": [
      "E = mc^2\n",
      "E = 4.943153483052497e+18 kg\n"
     ]
    }
   ],
   "source": [
    "print(\"E = mc^2\")\n",
    "m = 55\n",
    "c = scipy.constants.c\n",
    "e = m*(c**2)\n",
    "\n",
    "print(f\"E = {e} kg\")"
   ]
  },
  {
   "cell_type": "markdown",
   "metadata": {},
   "source": [
    "Exercise 10) Try the following command to find the min, max, mean and\n",
    "variance of the data set (19, 18, 21, 16, 15, 17, 20, 18):"
   ]
  },
  {
   "cell_type": "code",
   "execution_count": 22,
   "metadata": {},
   "outputs": [
    {
     "name": "stdout",
     "output_type": "stream",
     "text": [
      "15 21 18.0 4.0\n"
     ]
    }
   ],
   "source": [
    "import scipy.stats\n",
    "import numpy as np\n",
    "x = np.array([19, 18, 21, 16, 15, 17, 20, 18])\n",
    "print(scipy.stats.tmin(x), scipy.stats.tmax(x),\n",
    "    scipy.stats.tmean(x), scipy.stats.tvar(x));"
   ]
  },
  {
   "cell_type": "markdown",
   "metadata": {},
   "source": [
    "Exercise 11) Let’s add the following statement into the exercise 10 solution:\n"
   ]
  },
  {
   "cell_type": "code",
   "execution_count": 23,
   "metadata": {},
   "outputs": [
    {
     "name": "stdout",
     "output_type": "stream",
     "text": [
      "DescribeResult(nobs=8, minmax=(15, 21), mean=18.0, variance=4.0, skewness=0.0, kurtosis=-1.0)\n"
     ]
    }
   ],
   "source": [
    "print(scipy.stats.describe(x))"
   ]
  },
  {
   "cell_type": "markdown",
   "metadata": {},
   "source": [
    "Exercise 12) Using student score of subject A as shown in Exercise 1, Try\n",
    "the following code:\n"
   ]
  },
  {
   "cell_type": "code",
   "execution_count": 24,
   "metadata": {},
   "outputs": [
    {
     "name": "stdout",
     "output_type": "stream",
     "text": [
      "Z-score of 80: [1.44524896]\n",
      "Z-score of 78: [1.28599288]\n",
      "Z-score of 55: [-0.54545209]\n",
      "Z-score of 60: [-0.14731188]\n",
      "Z-score of 62: [0.01194421]\n",
      "Z-score of 59: [-0.22693992]\n",
      "Z-score of 48: [-1.10284838]\n",
      "Z-score of 49: [-1.02322034]\n",
      "Z-score of 51: [-0.86396425]\n",
      "Z-score of 54: [-0.62508013]\n",
      "Z-score of 72: [0.80822462]\n",
      "Z-score of 95: [2.63966959]\n",
      "Z-score of 78: [1.28599288]\n",
      "Z-score of 54: [-0.62508013]\n",
      "Z-score of 50: [-0.9435923]\n",
      "Z-score of 61: [-0.06768384]\n",
      "Z-score of 57: [-0.386196]\n",
      "Z-score of 56: [-0.46582404]\n",
      "Z-score of 65: [0.25082833]\n",
      "Z-score of 53: [-0.70470817]\n"
     ]
    }
   ],
   "source": [
    "import scipy . stats\n",
    "import numpy as np\n",
    "student_scores = [[80] , [78] , [55] , [60] , [62] ,\n",
    "[59] , [48] , [49] , [51] , [54] ,\n",
    "[72] , [95] , [78] , [54] , [50] ,\n",
    "[61] , [57] , [56] , [65] , [53]];\n",
    "# print(scipy.stats.tmean(student_scores))\n",
    "# print(scipy.stats.tstd(student_scores))\n",
    "# print((62 - scipy.stats.tmean(student_scores)) / scipy.stats.tstd(student_scores))\n",
    "# print(scipy.stats.zscore(student_scores))\n",
    "# print(scipy.stats.mode(student_scores))\n",
    "# print(scipy.stats.iqr(student_scores))\n",
    "\n",
    "# Exercise 13) Calculate Z-score of all scores in Exercise 12 (Manually). Try\n",
    "# to use package in scipy.stats to calculate. How is the result?\n",
    "for i in student_scores:\n",
    "    z_score = (i - scipy.stats.tmean(student_scores)) / scipy.stats.tstd(student_scores)\n",
    "    print(f\"Z-score of {i[0]}: {z_score}\")"
   ]
  }
 ],
 "metadata": {
  "interpreter": {
   "hash": "42588fd11209419b7c81abe23e31a1d2101f60811b02170c268e57ebb57d5d9a"
  },
  "kernelspec": {
   "display_name": "Python 3.8.8 64-bit ('base': conda)",
   "language": "python",
   "name": "python3"
  },
  "language_info": {
   "codemirror_mode": {
    "name": "ipython",
    "version": 3
   },
   "file_extension": ".py",
   "mimetype": "text/x-python",
   "name": "python",
   "nbconvert_exporter": "python",
   "pygments_lexer": "ipython3",
   "version": "3.8.8"
  },
  "orig_nbformat": 4
 },
 "nbformat": 4,
 "nbformat_minor": 2
}
