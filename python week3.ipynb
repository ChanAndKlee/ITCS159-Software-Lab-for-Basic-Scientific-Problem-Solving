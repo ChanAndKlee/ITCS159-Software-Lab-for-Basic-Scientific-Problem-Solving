{
 "cells": [
  {
   "cell_type": "code",
   "execution_count": 4,
   "id": "1dc4b02c",
   "metadata": {},
   "outputs": [],
   "source": [
    "# This is a comment."
   ]
  },
  {
   "cell_type": "code",
   "execution_count": 5,
   "id": "92eb6cbd",
   "metadata": {},
   "outputs": [
    {
     "data": {
      "text/plain": [
       "4"
      ]
     },
     "execution_count": 5,
     "metadata": {},
     "output_type": "execute_result"
    }
   ],
   "source": [
    "3+5-4"
   ]
  },
  {
   "cell_type": "code",
   "execution_count": 6,
   "id": "6f18af72",
   "metadata": {},
   "outputs": [
    {
     "data": {
      "text/plain": [
       "2.4000000000000004"
      ]
     },
     "execution_count": 6,
     "metadata": {},
     "output_type": "execute_result"
    }
   ],
   "source": [
    "4/5*3"
   ]
  },
  {
   "cell_type": "code",
   "execution_count": 7,
   "id": "a4f9cde6",
   "metadata": {},
   "outputs": [
    {
     "data": {
      "text/plain": [
       "1024"
      ]
     },
     "execution_count": 7,
     "metadata": {},
     "output_type": "execute_result"
    }
   ],
   "source": [
    "2**10"
   ]
  },
  {
   "cell_type": "code",
   "execution_count": 8,
   "id": "3adff482",
   "metadata": {},
   "outputs": [],
   "source": [
    "from math import *"
   ]
  },
  {
   "cell_type": "code",
   "execution_count": 9,
   "id": "b97fef1b",
   "metadata": {},
   "outputs": [
    {
     "data": {
      "text/plain": [
       "80658175170943878571660636856403766975289505440883277824000000000000"
      ]
     },
     "execution_count": 9,
     "metadata": {},
     "output_type": "execute_result"
    }
   ],
   "source": [
    "factorial(52)"
   ]
  },
  {
   "cell_type": "markdown",
   "id": "ebc054e0",
   "metadata": {},
   "source": [
    "# Symbolic Math with Python"
   ]
  },
  {
   "cell_type": "code",
   "execution_count": 10,
   "id": "0b4a9fbc",
   "metadata": {},
   "outputs": [],
   "source": [
    "from sympy import *"
   ]
  },
  {
   "cell_type": "code",
   "execution_count": 117,
   "id": "1cdae7fc",
   "metadata": {},
   "outputs": [],
   "source": [
    "a, x = symbols('a, x') # new object a and x -> class of symbolic math library,  define"
   ]
  },
  {
   "cell_type": "code",
   "execution_count": 118,
   "id": "e3071b98",
   "metadata": {},
   "outputs": [
    {
     "data": {
      "text/latex": [
       "$\\displaystyle \\left(a + x\\right)^{2}$"
      ],
      "text/plain": [
       "(a + x)**2"
      ]
     },
     "execution_count": 118,
     "metadata": {},
     "output_type": "execute_result"
    }
   ],
   "source": [
    "factor(x**2 + 2*x*a +a**2) # quadratic equation"
   ]
  },
  {
   "cell_type": "code",
   "execution_count": 119,
   "id": "3d13bdbd",
   "metadata": {},
   "outputs": [
    {
     "data": {
      "text/latex": [
       "$\\displaystyle 2 a + 2 x$"
      ],
      "text/plain": [
       "2*a + 2*x"
      ]
     },
     "execution_count": 119,
     "metadata": {},
     "output_type": "execute_result"
    }
   ],
   "source": [
    "diff(x**2 + 2*x*a +a**2, x)"
   ]
  },
  {
   "cell_type": "code",
   "execution_count": 120,
   "id": "8c76bfaa",
   "metadata": {},
   "outputs": [
    {
     "data": {
      "text/latex": [
       "$\\displaystyle 4 a$"
      ],
      "text/plain": [
       "4*a"
      ]
     },
     "execution_count": 120,
     "metadata": {},
     "output_type": "execute_result"
    }
   ],
   "source": [
    "integrate(2*a + 2*x, (x, -1, 1))"
   ]
  },
  {
   "cell_type": "markdown",
   "id": "548149c5",
   "metadata": {},
   "source": [
    "# Plotting Symbolic equation"
   ]
  },
  {
   "cell_type": "code",
   "execution_count": 27,
   "id": "4d2a5139",
   "metadata": {},
   "outputs": [],
   "source": [
    "from sympy.plotting import plot"
   ]
  },
  {
   "cell_type": "code",
   "execution_count": 28,
   "id": "69d36cd5",
   "metadata": {},
   "outputs": [],
   "source": [
    "from sympy import Symbol"
   ]
  },
  {
   "cell_type": "code",
   "execution_count": 29,
   "id": "8d645428",
   "metadata": {},
   "outputs": [],
   "source": [
    "# SSSSSSymbol = work with one variable "
   ]
  },
  {
   "cell_type": "code",
   "execution_count": 31,
   "id": "80ed5702",
   "metadata": {},
   "outputs": [],
   "source": [
    "x = Symbol('x')"
   ]
  },
  {
   "cell_type": "code",
   "execution_count": 32,
   "id": "0d74e2bf",
   "metadata": {},
   "outputs": [
    {
     "data": {
      "image/png": "[encoded data removed]",
      "text/plain": [
       "<Figure size 432x288 with 1 Axes>"
      ]
     },
     "metadata": {
      "needs_background": "light"
     },
     "output_type": "display_data"
    },
    {
     "data": {
      "text/plain": [
       "<sympy.plotting.plot.Plot at 0x16fe27810d0>"
      ]
     },
     "execution_count": 32,
     "metadata": {},
     "output_type": "execute_result"
    }
   ],
   "source": [
    "plot(x**2)"
   ]
  },
  {
   "cell_type": "markdown",
   "id": "fda4e860",
   "metadata": {},
   "source": [
    "# Numerical Math Using Python"
   ]
  },
  {
   "cell_type": "code",
   "execution_count": 34,
   "id": "d4bfcae1",
   "metadata": {},
   "outputs": [],
   "source": [
    "import numpy as np"
   ]
  },
  {
   "cell_type": "code",
   "execution_count": 35,
   "id": "15d5acd3",
   "metadata": {},
   "outputs": [],
   "source": [
    "a = list(range(4))"
   ]
  },
  {
   "cell_type": "code",
   "execution_count": 36,
   "id": "f6d103a3",
   "metadata": {},
   "outputs": [
    {
     "data": {
      "text/plain": [
       "(0, 1, 2, 3)"
      ]
     },
     "execution_count": 36,
     "metadata": {},
     "output_type": "execute_result"
    }
   ],
   "source": [
    "a[0], a[1], a[2], a[3]"
   ]
  },
  {
   "cell_type": "code",
   "execution_count": 38,
   "id": "ea658896",
   "metadata": {},
   "outputs": [
    {
     "data": {
      "text/plain": [
       "list"
      ]
     },
     "execution_count": 38,
     "metadata": {},
     "output_type": "execute_result"
    }
   ],
   "source": [
    "type(a)"
   ]
  },
  {
   "cell_type": "code",
   "execution_count": 39,
   "id": "d615cb03",
   "metadata": {},
   "outputs": [],
   "source": [
    "A = np.array([[1, 2], [3, 4]])"
   ]
  },
  {
   "cell_type": "code",
   "execution_count": 40,
   "id": "9f2c23e6",
   "metadata": {},
   "outputs": [
    {
     "data": {
      "text/plain": [
       "array([[1, 2],\n",
       "       [3, 4]])"
      ]
     },
     "execution_count": 40,
     "metadata": {},
     "output_type": "execute_result"
    }
   ],
   "source": [
    "A"
   ]
  },
  {
   "cell_type": "code",
   "execution_count": 133,
   "id": "5080a07d",
   "metadata": {},
   "outputs": [
    {
     "data": {
      "text/plain": [
       "numpy.ndarray"
      ]
     },
     "execution_count": 133,
     "metadata": {},
     "output_type": "execute_result"
    }
   ],
   "source": [
    "type(A)"
   ]
  },
  {
   "cell_type": "markdown",
   "id": "608dcbac",
   "metadata": {},
   "source": [
    "# Simple Numerical Plots"
   ]
  },
  {
   "cell_type": "code",
   "execution_count": 41,
   "id": "ecd186ed",
   "metadata": {},
   "outputs": [],
   "source": [
    "import numpy as np"
   ]
  },
  {
   "cell_type": "code",
   "execution_count": 43,
   "id": "de2a0d95",
   "metadata": {},
   "outputs": [],
   "source": [
    "import matplotlib.pyplot as plt"
   ]
  },
  {
   "cell_type": "code",
   "execution_count": 48,
   "id": "79312ce5",
   "metadata": {},
   "outputs": [],
   "source": [
    "x = np.linspace(-5, 5, 50)  # start stop num(how many?)"
   ]
  },
  {
   "cell_type": "code",
   "execution_count": 49,
   "id": "a4579731",
   "metadata": {},
   "outputs": [],
   "source": [
    "y = x**2"
   ]
  },
  {
   "cell_type": "code",
   "execution_count": 50,
   "id": "3be59f57",
   "metadata": {
    "scrolled": true
   },
   "outputs": [
    {
     "data": {
      "text/plain": [
       "[<matplotlib.lines.Line2D at 0x16fe29cb2e0>]"
      ]
     },
     "execution_count": 50,
     "metadata": {},
     "output_type": "execute_result"
    },
    {
     "data": {
      "image/png": "[encoded data removed]",
      "text/plain": [
       "<Figure size 432x288 with 1 Axes>"
      ]
     },
     "metadata": {
      "needs_background": "light"
     },
     "output_type": "display_data"
    }
   ],
   "source": [
    "plt.plot(x, y)"
   ]
  },
  {
   "cell_type": "markdown",
   "id": "df966622",
   "metadata": {},
   "source": [
    "# Exercise 1: Pythagoras's theorem"
   ]
  },
  {
   "cell_type": "code",
   "execution_count": 51,
   "id": "7ed85330",
   "metadata": {},
   "outputs": [],
   "source": [
    "from math import *"
   ]
  },
  {
   "cell_type": "code",
   "execution_count": 52,
   "id": "018fd350",
   "metadata": {},
   "outputs": [
    {
     "data": {
      "text/plain": [
       "0.9033391107665127"
      ]
     },
     "execution_count": 52,
     "metadata": {},
     "output_type": "execute_result"
    }
   ],
   "source": [
    "asin(pi/4)    # inverse of sin function"
   ]
  },
  {
   "cell_type": "markdown",
   "id": "ff7d144f",
   "metadata": {},
   "source": [
    "#### Show how to use Python to compute Angle C"
   ]
  },
  {
   "cell_type": "code",
   "execution_count": 62,
   "id": "12b09f02",
   "metadata": {},
   "outputs": [],
   "source": [
    "a = 4.9; b = 2.9; c = 4.0;"
   ]
  },
  {
   "cell_type": "code",
   "execution_count": 136,
   "id": "2b03b513",
   "metadata": {},
   "outputs": [
    {
     "name": "stdout",
     "output_type": "stream",
     "text": [
      "Angle: asin(4.0/a)\n",
      "Pi: 57.2957795130823*asin(4.0/a)\n",
      "Result: 4.0/a\n"
     ]
    }
   ],
   "source": [
    "import math\n",
    "print(f\"Angle: {asin(c/a)}\")\n",
    "print(f\"Pi: {asin(c/a)*(180/math.pi)}\")\n",
    "print(\"Result:\",c/a)"
   ]
  },
  {
   "cell_type": "markdown",
   "id": "9d5c1b54",
   "metadata": {},
   "source": [
    "### Solving Equations"
   ]
  },
  {
   "cell_type": "code",
   "execution_count": 65,
   "id": "c3755c8f",
   "metadata": {},
   "outputs": [],
   "source": [
    "from sympy import Symbol, solve"
   ]
  },
  {
   "cell_type": "code",
   "execution_count": 66,
   "id": "90407955",
   "metadata": {},
   "outputs": [],
   "source": [
    "x = Symbol('x')   # Define"
   ]
  },
  {
   "cell_type": "code",
   "execution_count": 71,
   "id": "082803c8",
   "metadata": {},
   "outputs": [],
   "source": [
    "expr = x - 5 - 7"
   ]
  },
  {
   "cell_type": "code",
   "execution_count": 72,
   "id": "4e4f520b",
   "metadata": {},
   "outputs": [
    {
     "data": {
      "text/plain": [
       "[12]"
      ]
     },
     "execution_count": 72,
     "metadata": {},
     "output_type": "execute_result"
    }
   ],
   "source": [
    "solve(expr)"
   ]
  },
  {
   "cell_type": "markdown",
   "id": "05cd276e",
   "metadata": {},
   "source": [
    "### Solving Quadratic Equations"
   ]
  },
  {
   "cell_type": "code",
   "execution_count": 73,
   "id": "7dabdac9",
   "metadata": {},
   "outputs": [],
   "source": [
    "from sympy import solve\n",
    "from sympy.plotting import plot"
   ]
  },
  {
   "cell_type": "code",
   "execution_count": 80,
   "id": "c34bd6b3",
   "metadata": {},
   "outputs": [],
   "source": [
    "x = Symbol('x')   # Create obj"
   ]
  },
  {
   "cell_type": "code",
   "execution_count": 81,
   "id": "8a982215",
   "metadata": {},
   "outputs": [],
   "source": [
    "expr = x**2 + 5*x + 4"
   ]
  },
  {
   "cell_type": "code",
   "execution_count": 85,
   "id": "9809b9eb",
   "metadata": {},
   "outputs": [
    {
     "data": {
      "text/plain": [
       "[{x: -4}, {x: -1}]"
      ]
     },
     "execution_count": 85,
     "metadata": {},
     "output_type": "execute_result"
    }
   ],
   "source": [
    "solve(expr, dict=True)"
   ]
  },
  {
   "cell_type": "code",
   "execution_count": 86,
   "id": "c5861cb2",
   "metadata": {},
   "outputs": [
    {
     "data": {
      "image/png": "[encoded data removed]",
      "text/plain": [
       "<Figure size 432x288 with 1 Axes>"
      ]
     },
     "metadata": {
      "needs_background": "light"
     },
     "output_type": "display_data"
    },
    {
     "data": {
      "text/plain": [
       "<sympy.plotting.plot.Plot at 0x16fe487eb80>"
      ]
     },
     "execution_count": 86,
     "metadata": {},
     "output_type": "execute_result"
    }
   ],
   "source": [
    "plot(expr)"
   ]
  },
  {
   "cell_type": "markdown",
   "id": "8867848b",
   "metadata": {},
   "source": [
    "### Exercise 2: Solving Equation"
   ]
  },
  {
   "cell_type": "code",
   "execution_count": 142,
   "id": "e441067e",
   "metadata": {},
   "outputs": [
    {
     "name": "stdout",
     "output_type": "stream",
     "text": [
      "[{x: -3}, {x: 1/2}]\n"
     ]
    },
    {
     "data": {
      "image/png": "[encoded data removed]",
      "text/plain": [
       "<Figure size 432x288 with 1 Axes>"
      ]
     },
     "metadata": {
      "needs_background": "light"
     },
     "output_type": "display_data"
    },
    {
     "name": "stdout",
     "output_type": "stream",
     "text": [
      "Plot object containing:\n",
      "[0]: cartesian line: 2*x**2 + 5*x - 3 for x over (-10.0, 10.0)\n",
      "[1]: cartesian line: 0 for x over (-10.0, 10.0)\n"
     ]
    }
   ],
   "source": [
    "import math\n",
    "from sympy import solve\n",
    "from sympy.plotting import plot\n",
    "\n",
    "x = Symbol('x')\n",
    "y = 0\n",
    "ans = 2*(x**2) + 5*x - 3\n",
    "result = solve(ans, dict=True)\n",
    "\n",
    "print(result)\n",
    "print(plot(ans, y))"
   ]
  },
  {
   "cell_type": "markdown",
   "id": "e95a6cbd",
   "metadata": {},
   "source": [
    "### Solving a System of Linear Equations"
   ]
  },
  {
   "cell_type": "code",
   "execution_count": 88,
   "id": "44d36208",
   "metadata": {},
   "outputs": [],
   "source": [
    "from sympy import *\n",
    "from sympy.plotting import plot"
   ]
  },
  {
   "cell_type": "code",
   "execution_count": 89,
   "id": "dbb7452a",
   "metadata": {},
   "outputs": [],
   "source": [
    "x, y = symbols('x, y')"
   ]
  },
  {
   "cell_type": "code",
   "execution_count": 90,
   "id": "be682b8b",
   "metadata": {},
   "outputs": [],
   "source": [
    "expr1 = 2*x + 3*y - 6"
   ]
  },
  {
   "cell_type": "code",
   "execution_count": 91,
   "id": "e8f68384",
   "metadata": {},
   "outputs": [],
   "source": [
    "expr2 = 3*x + 2*y-12"
   ]
  },
  {
   "cell_type": "code",
   "execution_count": 94,
   "id": "19fb2de2",
   "metadata": {},
   "outputs": [
    {
     "data": {
      "text/plain": [
       "[{x: 24/5, y: -6/5}]"
      ]
     },
     "execution_count": 94,
     "metadata": {},
     "output_type": "execute_result"
    }
   ],
   "source": [
    "solve((expr1, expr2), dict=True)"
   ]
  },
  {
   "cell_type": "code",
   "execution_count": 95,
   "id": "59774e60",
   "metadata": {},
   "outputs": [],
   "source": [
    "pexp1 = (-2*x+6)/3"
   ]
  },
  {
   "cell_type": "code",
   "execution_count": 96,
   "id": "6244ff82",
   "metadata": {},
   "outputs": [],
   "source": [
    "pexp2 = (-3*x +12)/2"
   ]
  },
  {
   "cell_type": "code",
   "execution_count": 97,
   "id": "0975de82",
   "metadata": {},
   "outputs": [
    {
     "data": {
      "image/png": "[encoded data removed]",
      "text/plain": [
       "<Figure size 432x288 with 1 Axes>"
      ]
     },
     "metadata": {
      "needs_background": "light"
     },
     "output_type": "display_data"
    },
    {
     "data": {
      "text/plain": [
       "<sympy.plotting.plot.Plot at 0x16fe4904a30>"
      ]
     },
     "execution_count": 97,
     "metadata": {},
     "output_type": "execute_result"
    }
   ],
   "source": [
    "plot(pexp1, pexp2)"
   ]
  },
  {
   "cell_type": "markdown",
   "id": "de45f879",
   "metadata": {},
   "source": [
    "### Exercise 3: Solving Linear Equation"
   ]
  },
  {
   "cell_type": "markdown",
   "id": "46824f0e",
   "metadata": {},
   "source": [
    "2x+4y+6=0 and 2x+3y+4=0. Show grap of Intersection point."
   ]
  },
  {
   "cell_type": "code",
   "execution_count": 137,
   "id": "2ecde0ea",
   "metadata": {},
   "outputs": [
    {
     "data": {
      "text/plain": [
       "[]"
      ]
     },
     "execution_count": 137,
     "metadata": {},
     "output_type": "execute_result"
    }
   ],
   "source": [
    "from sympy import *\n",
    "from sympy.plotting import plot\n",
    "x, y = symbols('x, y')\n",
    "expr1 = 2*x + 4*y + 6\n",
    "expr2 = 2*x + 3*y + 4\n",
    "y = x**2\n",
    "solve((expr1, expr2, y), dict=True)"
   ]
  },
  {
   "cell_type": "code",
   "execution_count": 122,
   "id": "d31792be",
   "metadata": {},
   "outputs": [],
   "source": [
    "pexp1 = (-2*x-6)/4"
   ]
  },
  {
   "cell_type": "code",
   "execution_count": 123,
   "id": "82ecb261",
   "metadata": {},
   "outputs": [],
   "source": [
    "pexp2 = (-2*x-4)/3"
   ]
  },
  {
   "cell_type": "code",
   "execution_count": 138,
   "id": "e4941007",
   "metadata": {},
   "outputs": [
    {
     "data": {
      "image/png": "[encoded data removed]",
      "text/plain": [
       "<Figure size 432x288 with 1 Axes>"
      ]
     },
     "metadata": {
      "needs_background": "light"
     },
     "output_type": "display_data"
    },
    {
     "data": {
      "text/plain": [
       "<sympy.plotting.plot.Plot at 0x16fe4d36d30>"
      ]
     },
     "execution_count": 138,
     "metadata": {},
     "output_type": "execute_result"
    }
   ],
   "source": [
    "plot(pexp1, pexp2, y)"
   ]
  }
 ],
 "metadata": {
  "kernelspec": {
   "display_name": "Python 3",
   "language": "python",
   "name": "python3"
  },
  "language_info": {
   "codemirror_mode": {
    "name": "ipython",
    "version": 3
   },
   "file_extension": ".py",
   "mimetype": "text/x-python",
   "name": "python",
   "nbconvert_exporter": "python",
   "pygments_lexer": "ipython3",
   "version": "3.8.8"
  }
 },
 "nbformat": 4,
 "nbformat_minor": 5
}
