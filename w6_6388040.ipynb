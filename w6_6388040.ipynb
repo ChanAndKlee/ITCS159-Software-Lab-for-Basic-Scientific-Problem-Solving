{
 "cells": [
  {
   "cell_type": "markdown",
   "metadata": {},
   "source": [
    "# Week 6: the use of Python Library (SciPy)"
   ]
  },
  {
   "cell_type": "markdown",
   "metadata": {},
   "source": [
    "• ```whiten(obs[, check finite])```  \n",
    "Normalize a group of observations on a per feature basis.  \n",
    "• ```vq(obs, code book[,check finite])```  \n",
    "Assign codes from a code book to observations.  \n",
    "• ```kmeans(obs, k o guess[, iter, thresh, ...])```   \n",
    "Performs k-means on a set of observation vectors forming k   clusters.  \n",
    "• ```(kmeans2(data, k[, iter, thresh, minit, ...]))```   \n",
    "Classify a set of observations into k clusters using the k-means algorithm.  "
   ]
  },
  {
   "cell_type": "markdown",
   "metadata": {},
   "source": [
    "(D)Exercise 1) Now, try to create the final scores of 20 students in Jupyter\n",
    "Notebook as follows:"
   ]
  },
  {
   "cell_type": "code",
   "execution_count": 14,
   "metadata": {},
   "outputs": [
    {
     "name": "stdout",
     "output_type": "stream",
     "text": [
      "[[80], [78], [55], [60], [62], [59], [48], [49], [51], [64], [72], [95], [78], [54], [50], [61], [57], [56], [65], [53]]\n"
     ]
    }
   ],
   "source": [
    "import scipy\n",
    "from scipy.cluster.vq import kmeans, vq, whiten\n",
    "# Score of 20 Students in one subjects\n",
    "student_scores = [[80], [78], [55], [60], [62],\n",
    "                  [59], [48], [49], [51], [64],\n",
    "                  [72], [95], [78], [54], [50],\n",
    "                  [61], [57], [56], [65], [53]]\n",
    "print(student_scores)\n",
    "# create list score of 20 students"
   ]
  },
  {
   "cell_type": "markdown",
   "metadata": {},
   "source": [
    "(D)Exercise 2) Next, normalize the raw data and calculate the centroids for\n",
    "classifying two group of students:"
   ]
  },
  {
   "cell_type": "code",
   "execution_count": 15,
   "metadata": {},
   "outputs": [
    {
     "name": "stdout",
     "output_type": "stream",
     "text": [
      "[[6.65394617]\n",
      " [4.64510386]] 0.40066772609764706\n"
     ]
    }
   ],
   "source": [
    "student_scores = whiten(student_scores) # whiten >> normalize a group of observations on a per feature basis\n",
    "centroids,_ = kmeans(student_scores, 2) # kmeans >> find k-means (2 is amount of k terms)\n",
    "\n",
    "# ,_ for printing another number (0.36926884524523024)\n",
    "# print(student_scores)\n",
    "print(centroids,_)"
   ]
  },
  {
   "cell_type": "markdown",
   "metadata": {},
   "source": [
    "(D)Exercise 3) Finally, assign student into each group based on the nearest\n",
    "distance:\n"
   ]
  },
  {
   "cell_type": "code",
   "execution_count": 16,
   "metadata": {},
   "outputs": [
    {
     "name": "stdout",
     "output_type": "stream",
     "text": [
      "[0 0 1 1 1 1 1 1 1 1 0 0 0 1 1 1 1 1 1 1]\n"
     ]
    }
   ],
   "source": [
    "result,_ = vq(student_scores, centroids)\n",
    "\n",
    "print(result)"
   ]
  },
  {
   "cell_type": "markdown",
   "metadata": {},
   "source": [
    "Exercise 4) Modify the code in Exercise 1,2 and 3, in order to classify students\n",
    "in to 4 groups and show the results."
   ]
  },
  {
   "cell_type": "code",
   "execution_count": 17,
   "metadata": {},
   "outputs": [
    {
     "name": "stdout",
     "output_type": "stream",
     "text": [
      "result: [0 0 1 1 1 1 1 1 1 1 0 0 0 1 1 1 1 1 1 1]\n"
     ]
    }
   ],
   "source": [
    "# I don't know, so I skip first\n",
    "student_scores = whiten(student_scores) # normailized your feature, group cluster of data together\n",
    "test,_ = kmeans(student_scores ,4)  # find the mean of each clusters\n",
    "result,_ = vq(student_scores , centroids) # Assign codes from a code book to observations. \n",
    "#print(\"student_scores:\", student_scores)\n",
    "#print(\"centroids:\", test,_)\n",
    "print(\"result:\", result)"
   ]
  },
  {
   "cell_type": "markdown",
   "metadata": {},
   "source": [
    "Exercise 5) Next, Try to classify the following scores of two subjects from 20\n",
    "students into FOUR groups. (same as 4?)"
   ]
  },
  {
   "cell_type": "code",
   "execution_count": 18,
   "metadata": {},
   "outputs": [
    {
     "name": "stdout",
     "output_type": "stream",
     "text": [
      "result: [0 0 2 2 3 2 1 3 3 2 0 0 0 1 3 2 2 3 2 1]\n"
     ]
    }
   ],
   "source": [
    "import numpy as np\n",
    "student_scores = [[80 , 72] , [78 , 56] , [55 , 64] , [60 , 61] , [62 , 45] ,\n",
    "[59 , 71] , [48 , 85] , [49 , 45] , [51 , 55] , [54 , 62] ,\n",
    "[72 , 81] , [95 , 81] , [78 , 92] , [54 , 80] , [50 , 50] ,\n",
    "[61 , 65] , [57 , 62] , [56 , 55] , [65 , 63] , [53 , 72]];\n",
    "\n",
    "student_scores = whiten(student_scores)  # normailized your feature, group cluster of data together\n",
    "test,_ = kmeans(student_scores ,4)\n",
    "result2,_ = vq(student_scores , test,_)\n",
    "#print(\"student_scores:\", student_scores)\n",
    "#print(\"centroids:\", test,_)\n",
    "print(\"result:\", result2)"
   ]
  },
  {
   "cell_type": "markdown",
   "metadata": {},
   "source": [
    "(D)Exercise 6) Try the following code:"
   ]
  },
  {
   "cell_type": "code",
   "execution_count": 19,
   "metadata": {},
   "outputs": [
    {
     "name": "stdout",
     "output_type": "stream",
     "text": [
      "The PI is 3.1415926535897931\n",
      "The speed of light is c = 299792458.0\n",
      "The newton ’s gravity constant is G = 9.8\n"
     ]
    }
   ],
   "source": [
    "import scipy.constants\n",
    "\n",
    "# Use scipy library for some computed values\n",
    "print(\"The PI is %.16f\"%scipy.constants.pi)\n",
    "print(\"The speed of light is c = %.1F\"%scipy.constants.c)\n",
    "print(\"The newton ’s gravity constant is G = %.1F\"%scipy.constants.g)"
   ]
  },
  {
   "cell_type": "markdown",
   "metadata": {},
   "source": [
    "(D)Exercise 7) Try the following code:\n",
    "scipy . constants . find (\" gram \") )\n",
    "What are the outputs? What is method .find do?"
   ]
  },
  {
   "cell_type": "code",
   "execution_count": 20,
   "metadata": {},
   "outputs": [
    {
     "data": {
      "text/plain": [
       "['atomic mass unit-kilogram relationship',\n",
       " 'electron volt-kilogram relationship',\n",
       " 'hartree-kilogram relationship',\n",
       " 'hertz-kilogram relationship',\n",
       " 'inverse meter-kilogram relationship',\n",
       " 'joule-kilogram relationship',\n",
       " 'kelvin-kilogram relationship',\n",
       " 'kilogram-atomic mass unit relationship',\n",
       " 'kilogram-electron volt relationship',\n",
       " 'kilogram-hartree relationship',\n",
       " 'kilogram-hertz relationship',\n",
       " 'kilogram-inverse meter relationship',\n",
       " 'kilogram-joule relationship',\n",
       " 'kilogram-kelvin relationship']"
      ]
     },
     "execution_count": 20,
     "metadata": {},
     "output_type": "execute_result"
    }
   ],
   "source": [
    "scipy.constants.find(\"gram\")\n",
    "# Return list of physical_constant keys containing a given string."
   ]
  },
  {
   "cell_type": "markdown",
   "metadata": {},
   "source": [
    "(D)Exercise 8) Try the following code:"
   ]
  },
  {
   "cell_type": "code",
   "execution_count": 21,
   "metadata": {},
   "outputs": [
    {
     "name": "stdout",
     "output_type": "stream",
     "text": [
      "(1.6605390666e-27, 'kg', 5e-37)\n"
     ]
    }
   ],
   "source": [
    "print(scipy.constants.physical_constants[\"atomic mass unit-kilogram relationship\"])\n",
    "# formatting\n",
    "# value (ans), unit, power of ans"
   ]
  },
  {
   "cell_type": "markdown",
   "metadata": {},
   "source": [
    "(D)Exercise 9) Try to calculate the Energy(E) of your body (weight in kg) if\n",
    "your entire body disappeared (Using E = mc2\n",
    "equation)."
   ]
  },
  {
   "cell_type": "code",
   "execution_count": 22,
   "metadata": {},
   "outputs": [
    {
     "name": "stdout",
     "output_type": "stream",
     "text": [
      "Energy of your body(E) : 4.943153483052497e+18 J\n"
     ]
    }
   ],
   "source": [
    "# Calculate the Energy(E)\n",
    "# based on E = m^c\n",
    "# m -> mass (kg)\n",
    "m = 55  # mass\n",
    "c = scipy.constants.c # value of c (speed of light)\n",
    "e = m*(c**2)  # energy\n",
    "\n",
    "print(\"Energy of your body(E) :\", e,\"J\")  # print result"
   ]
  },
  {
   "cell_type": "markdown",
   "metadata": {},
   "source": [
    "**Basic Statistics**  \n",
    "• ```describe()``` Computes several descriptive statistics of the passed array  \n",
    "• ```gmean()``` Computes geometric mean along the specified axis.  \n",
    "• ```hmean()``` Calculates the harmonic mean along the specified axis.  \n",
    "• ```kurtosis()``` Computes the kurtosis.  \n",
    "• ```mode()``` Returns the modal value.  \n",
    "• ```skew()``` Tests the skewness of the data.  \n",
    "• ```f_oneway()``` Performs a 1-way ANOVA.  \n",
    "• ```iqr()``` Computes the interquartile range of the data along the spec\u0002ified axis.  \n",
    "• ```zscore()``` Calculates the z score of each value in the sample, relative to the sample mean and standard deviation.  \n",
    "• ```sem()``` Calculates the standard error of the mean (or standard error of measurement) of the values in the input array.  "
   ]
  },
  {
   "cell_type": "markdown",
   "metadata": {},
   "source": [
    "(D)Exercise 10) Try the following command to find the min, max, mean and\n",
    "variance of the data set (19, 18, 21, 16, 15, 17, 20, 18):"
   ]
  },
  {
   "cell_type": "code",
   "execution_count": 23,
   "metadata": {},
   "outputs": [
    {
     "name": "stdout",
     "output_type": "stream",
     "text": [
      "15 21 18.0 4.0\n"
     ]
    }
   ],
   "source": [
    "import scipy.stats\n",
    "import numpy as np\n",
    "x = np.array([19 ,18 ,21 ,16 ,15 ,17 ,20 ,18]);\n",
    "print(scipy.stats.tmin(x), scipy.stats.tmax(x), scipy.stats.tmean(x), scipy.stats.tvar(x))\n",
    "# find min, max, mean, and variance respectively"
   ]
  },
  {
   "cell_type": "markdown",
   "metadata": {},
   "source": [
    "(D)Exercise 11) Let’s add the following statement into the exercise 10 solution:"
   ]
  },
  {
   "cell_type": "code",
   "execution_count": 24,
   "metadata": {},
   "outputs": [
    {
     "name": "stdout",
     "output_type": "stream",
     "text": [
      "DescribeResult(nobs=8, minmax=(15, 21), mean=18.0, variance=4.0, skewness=0.0, kurtosis=-1.0)\n"
     ]
    }
   ],
   "source": [
    "print(scipy.stats.describe(x))\n",
    "# describe >> Computes several descriptive statistics of the passed array \n",
    "# nobs(amount), min and max, mean, variance, skewness, kurtosis (sth in statistics lol)"
   ]
  },
  {
   "cell_type": "markdown",
   "metadata": {},
   "source": [
    "(D)Exercise 12) Using student score of subject A as shown in Exercise 1, Try\n",
    "the following code:"
   ]
  },
  {
   "cell_type": "code",
   "execution_count": 25,
   "metadata": {},
   "outputs": [
    {
     "name": "stdout",
     "output_type": "stream",
     "text": [
      "Mean : 61.85\n",
      "Standard Deviation : [12.55838994]\n",
      "Z Score : [0.01194421]\n"
     ]
    }
   ],
   "source": [
    "import scipy.stats\n",
    "import numpy as np\n",
    "student_scores = [[80] , [78] , [55] , [60] , [62] ,\n",
    "                  [59] , [48] , [49] , [51] , [54] ,\n",
    "                  [72] , [95] , [78] , [54] , [50] ,\n",
    "                  [61] , [57] , [56] , [65] , [53]];\n",
    "\n",
    "print(\"Mean :\", scipy.stats.tmean(student_scores))    # mean\n",
    "print(\"Standard Deviation :\", scipy.stats.tstd(student_scores))     # standard deviation (std)\n",
    "print(\"Z Score :\", (62 - scipy.stats.tmean(student_scores)) / scipy.stats.tstd(student_scores))  # z score = (x-mean) / std"
   ]
  },
  {
   "cell_type": "markdown",
   "metadata": {},
   "source": [
    "(D)Exercise 13) Calculate Z-score of all scores in Exercise 12 (Manually). Try\n",
    "to use package in scipy.stats to calculate. How is the result?"
   ]
  },
  {
   "cell_type": "code",
   "execution_count": 26,
   "metadata": {},
   "outputs": [
    {
     "name": "stdout",
     "output_type": "stream",
     "text": [
      "Z Score 0 : [1.44524896]\n",
      "Z Score 1 : [1.28599288]\n",
      "Z Score 2 : [-0.54545209]\n",
      "Z Score 3 : [-0.14731188]\n",
      "Z Score 4 : [0.01194421]\n",
      "Z Score 5 : [-0.22693992]\n",
      "Z Score 6 : [-1.10284838]\n",
      "Z Score 7 : [-1.02322034]\n",
      "Z Score 8 : [-0.86396425]\n",
      "Z Score 9 : [-0.62508013]\n",
      "Z Score 10 : [0.80822462]\n",
      "Z Score 11 : [2.63966959]\n",
      "Z Score 12 : [1.28599288]\n",
      "Z Score 13 : [-0.62508013]\n",
      "Z Score 14 : [-0.9435923]\n",
      "Z Score 15 : [-0.06768384]\n",
      "Z Score 16 : [-0.386196]\n",
      "Z Score 17 : [-0.46582404]\n",
      "Z Score 18 : [0.25082833]\n",
      "Z Score 19 : [-0.70470817]\n"
     ]
    }
   ],
   "source": [
    "count = 0\n",
    "for i in student_scores:\n",
    "    print(\"Z Score \"+str(count), \":\", (i - scipy.stats.tmean(student_scores)) / scipy.stats.tstd(student_scores))\n",
    "    count += 1"
   ]
  }
 ],
 "metadata": {
  "interpreter": {
   "hash": "42588fd11209419b7c81abe23e31a1d2101f60811b02170c268e57ebb57d5d9a"
  },
  "kernelspec": {
   "display_name": "Python 3.8.8 64-bit ('base': conda)",
   "name": "python3"
  },
  "language_info": {
   "codemirror_mode": {
    "name": "ipython",
    "version": 3
   },
   "file_extension": ".py",
   "mimetype": "text/x-python",
   "name": "python",
   "nbconvert_exporter": "python",
   "pygments_lexer": "ipython3",
   "version": "3.8.8"
  }
 },
 "nbformat": 4,
 "nbformat_minor": 2
}
