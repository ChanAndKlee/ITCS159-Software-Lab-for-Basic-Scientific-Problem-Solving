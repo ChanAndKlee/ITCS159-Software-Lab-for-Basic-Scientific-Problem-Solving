{
 "cells": [
  {
   "cell_type": "markdown",
   "metadata": {},
   "source": [
    "### 6388040\n",
    "###  Week 7 : Python library for relational table manipulation (Pandas)\n"
   ]
  },
  {
   "cell_type": "code",
   "execution_count": 3,
   "metadata": {},
   "outputs": [
    {
     "name": "stdout",
     "output_type": "stream",
     "text": [
      "0    a\n",
      "1    b\n",
      "2    c\n",
      "3    d\n",
      "dtype: object\n"
     ]
    }
   ],
   "source": [
    "import pandas as pd\n",
    "import numpy as np\n",
    "data = np.array(['a', 'b', 'c', 'd'])\n",
    "s1 = pd.Series(data)\n",
    "print(s1)"
   ]
  },
  {
   "cell_type": "code",
   "execution_count": 4,
   "metadata": {},
   "outputs": [
    {
     "name": "stdout",
     "output_type": "stream",
     "text": [
      "0    1\n",
      "1    2\n",
      "2    3\n",
      "3    4\n",
      "dtype: int32\n"
     ]
    }
   ],
   "source": [
    "data = np.array([1,2,3,4])\n",
    "s2 = pd.Series(data)\n",
    "print(s2)"
   ]
  },
  {
   "cell_type": "code",
   "execution_count": 5,
   "metadata": {},
   "outputs": [
    {
     "name": "stdout",
     "output_type": "stream",
     "text": [
      "0    1\n",
      "1    b\n",
      "2    3\n",
      "3    d\n",
      "dtype: object\n"
     ]
    }
   ],
   "source": [
    "data = np.array([1,'b',3,'d'])\n",
    "s2 = pd.Series(data)\n",
    "print(s2)\n"
   ]
  },
  {
   "cell_type": "code",
   "execution_count": 8,
   "metadata": {},
   "outputs": [
    {
     "name": "stdout",
     "output_type": "stream",
     "text": [
      "100    a\n",
      "101    b\n",
      "102    c\n",
      "103    d\n",
      "dtype: object\n"
     ]
    }
   ],
   "source": [
    "data = np.array(['a','b','c','d'])\n",
    "s = pd.Series(data,index=[100,101,102,103])\n",
    "print(s)"
   ]
  },
  {
   "cell_type": "code",
   "execution_count": 26,
   "metadata": {},
   "outputs": [
    {
     "name": "stdout",
     "output_type": "stream",
     "text": [
      "5\n",
      "0\n",
      "3\n",
      "a    5\n",
      "dtype: int64\n",
      "b    0\n",
      "dtype: int64\n",
      "a    5\n",
      "c    3\n",
      "d    2\n",
      "dtype: int64\n"
     ]
    }
   ],
   "source": [
    "s = pd.Series([5, 0, 3, 2, 1], index = ['a', 'b', 'c', 'd', 'e'])\n",
    "print(s[0])\n",
    "print(s[1])\n",
    "print(s[2])\n",
    "\n",
    "print(s[['a']])\n",
    "print(s[['b']])\n",
    "\n",
    "print(s[['a', 'c', 'd']])"
   ]
  },
  {
   "cell_type": "code",
   "execution_count": 39,
   "metadata": {},
   "outputs": [
    {
     "name": "stdout",
     "output_type": "stream",
     "text": [
      "Empty DataFrame\n",
      "Columns: []\n",
      "Index: []\n",
      "   0\n",
      "0  5\n",
      "1  3\n",
      "2  2\n",
      "3  1\n",
      "4  4\n",
      "<class 'list'>\n",
      "     Name  Age\n",
      "0    Alex   10\n",
      "1     Bob   12\n",
      "2  Clarke   13\n"
     ]
    }
   ],
   "source": [
    "import pandas as pd\n",
    "df = pd.DataFrame()\n",
    "print(df)\n",
    "\n",
    "data = [5, 3, 2, 1, 4]\n",
    "df1 = pd.DataFrame(data)\n",
    "print(df1)\n",
    "\n",
    "data = [['Alex',10],['Bob',12],['Clarke',13]]\n",
    "print(type(data))\n",
    "df2 = pd.DataFrame(data,columns=['Name','Age'])\n",
    "print(df2)"
   ]
  },
  {
   "cell_type": "code",
   "execution_count": 38,
   "metadata": {},
   "outputs": [
    {
     "name": "stdout",
     "output_type": "stream",
     "text": [
      "<class 'dict'>\n",
      "    Name  Age\n",
      "0    Tom   28\n",
      "1   Jack   34\n",
      "2  Steve   29\n",
      "3  Ricky   42\n"
     ]
    }
   ],
   "source": [
    "data = {'Name':['Tom', 'Jack', 'Steve', 'Ricky'],\n",
    "        'Age':[28, 34, 29, 42]}\n",
    "print(type(data))\n",
    "df = pd.DataFrame(data)\n",
    "print(df)"
   ]
  },
  {
   "cell_type": "code",
   "execution_count": 50,
   "metadata": {},
   "outputs": [
    {
     "name": "stdout",
     "output_type": "stream",
     "text": [
      "<class 'dict'>\n",
      "   one  two\n",
      "a  1.0    1\n",
      "b  2.0    2\n",
      "c  3.0    3\n",
      "d  NaN    4\n"
     ]
    }
   ],
   "source": [
    "d = {'one' : pd.Series([1, 2, 3], index=['a', 'b', 'c']),\n",
    "'two' : pd.Series([1, 2, 3, 4], index=['a', 'b', 'c', 'd'])}\n",
    "print(type(d))\n",
    "df = pd.DataFrame(d)\n",
    "print(df)"
   ]
  },
  {
   "cell_type": "code",
   "execution_count": 93,
   "metadata": {},
   "outputs": [
    {
     "name": "stdout",
     "output_type": "stream",
     "text": [
      "   Math  C programming  Java  Web-programming\n",
      "0    90             70    50               55\n",
      "1    10             20    41               66\n",
      "2    34             25    67               23\n",
      "3    23             32    34               76\n",
      "4    43             73    23               67\n"
     ]
    }
   ],
   "source": [
    "studentDF = {'Math' : pd.Series([90, 10, 34, 23, 43], index = [0, 1, 2, 3, 4]),\n",
    "            'C programming' : pd.Series([70, 20, 25, 32, 73]),\n",
    "            'Java' : pd.Series([50, 41, 67, 34, 23]),\n",
    "            'Web-programming' : pd.Series([55, 66, 23, 76, 67])}\n",
    "df = pd.DataFrame(studentDF)\n",
    "print(df)"
   ]
  },
  {
   "cell_type": "code",
   "execution_count": 71,
   "metadata": {},
   "outputs": [
    {
     "name": "stdout",
     "output_type": "stream",
     "text": [
      "   Math  C programming  Java  Web-programming\n",
      "0    90             70    50               55\n",
      "1    10             20    41               66\n",
      "2    34             25    67               23\n",
      "3    23             32    34               76\n",
      "4    43             73    23               67\n",
      "   Math  C programming  Java  Web-programming\n",
      "2    34             25    67               23\n",
      "3    23             32    34               76\n",
      "Math               90\n",
      "C programming      70\n",
      "Java               50\n",
      "Web-programming    55\n",
      "Name: 0, dtype: int64\n",
      "Math               34\n",
      "C programming      25\n",
      "Java               67\n",
      "Web-programming    23\n",
      "Name: 2, dtype: int64\n",
      "   Math  C programming  Java  Web-programming\n",
      "2    34             25    67               23\n",
      "3    23             32    34               76\n"
     ]
    }
   ],
   "source": [
    "print(df)\n",
    "print(df[2:4])\n",
    "print(df.loc[0])\n",
    "print(df.loc[2])\n",
    "print(df.loc[2:3])"
   ]
  },
  {
   "cell_type": "code",
   "execution_count": 76,
   "metadata": {},
   "outputs": [
    {
     "name": "stdout",
     "output_type": "stream",
     "text": [
      "   a  b\n",
      "0  1  2\n",
      "1  3  4\n",
      "0  5  6\n",
      "1  7  8\n"
     ]
    }
   ],
   "source": [
    "df = pd.DataFrame([[1, 2], [3, 4]], columns = ['a', 'b'])\n",
    "df2 = pd.DataFrame([[5, 6], [7, 8]], columns = ['a', 'b'])\n",
    "df = df.append(df2)\n",
    "print(df)"
   ]
  },
  {
   "cell_type": "code",
   "execution_count": 95,
   "metadata": {},
   "outputs": [
    {
     "name": "stdout",
     "output_type": "stream",
     "text": [
      "   Math  C programming  Java  Web-programming\n",
      "0    90             70    50               55\n",
      "1    10             20    41               66\n",
      "2    34             25    67               23\n",
      "3    23             32    34               76\n",
      "4    43             73    23               67\n",
      "5    59             37    84               82\n",
      "6    41             34    73               55\n",
      "5    59             37    84               82\n",
      "6    41             34    73               55\n"
     ]
    }
   ],
   "source": [
    "insertData = {'Math' : pd.Series([59, 41], index = [5, 6]),\n",
    "            'C programming' : pd.Series([37, 34], index = [5, 6]),\n",
    "            'Java' : pd.Series([84, 73], index = [5, 6]),\n",
    "            'Web-programming' : pd.Series([82, 55], index = [5, 6])}\n",
    "# insertData = pd.DataFrame([[59, 37, 84, 82], [41, 34, 73, 55]], columns = ['Math', 'C programming', 'Java', 'Web-programming'])\n",
    "insertData = pd.DataFrame(insertData)\n",
    "df = df.append(insertData)\n",
    "print(df)"
   ]
  }
 ],
 "metadata": {
  "interpreter": {
   "hash": "42588fd11209419b7c81abe23e31a1d2101f60811b02170c268e57ebb57d5d9a"
  },
  "kernelspec": {
   "display_name": "Python 3.8.8 64-bit ('base': conda)",
   "language": "python",
   "name": "python3"
  },
  "language_info": {
   "codemirror_mode": {
    "name": "ipython",
    "version": 3
   },
   "file_extension": ".py",
   "mimetype": "text/x-python",
   "name": "python",
   "nbconvert_exporter": "python",
   "pygments_lexer": "ipython3",
   "version": "3.8.8"
  },
  "orig_nbformat": 4
 },
 "nbformat": 4,
 "nbformat_minor": 2
}
